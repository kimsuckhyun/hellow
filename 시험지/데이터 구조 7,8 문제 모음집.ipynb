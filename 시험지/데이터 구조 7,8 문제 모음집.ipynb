{
 "cells": [
  {
   "cell_type": "markdown",
   "id": "b96cbb9b",
   "metadata": {},
   "source": [
    "---\n",
    "### 문제1\n",
    "\n",
    "seq 안에 target이 몇개 존재하는지 알아내는 함수 my_counter() 를 구현하시오.\n",
    "\n",
    "- 주의)\n",
    "    - 반복문을 사용하여 O(N) 시간 안에 구현하시오.\n",
    "\n",
    "- 파라미터:\n",
    "    - seq: 시쿼스\n",
    "    - target: 찾고 싶은 대상\n",
    "- 리턴:\n",
    "    - target과 값이 같은 원소가 seq에 몇개 들어 있는지 리턴\n",
    "\n",
    "\n",
    "***결과***\n",
    "```\n",
    "3\n",
    "2\n",
    "1\n",
    "0\n",
    "```"
   ]
  },
  {
   "cell_type": "code",
   "execution_count": null,
   "id": "463d9a41",
   "metadata": {},
   "outputs": [],
   "source": [
    "# 이 셀을 실행시키세요.\n",
    "from __future__ import annotations"
   ]
  },
  {
   "cell_type": "code",
   "execution_count": null,
   "id": "633b37f4",
   "metadata": {},
   "outputs": [],
   "source": [
    "# 이 셀을 실행시키세요.\n",
    "from typing import Any, List, Tuple, Dict, Sequence\n",
    "from collections import deque\n",
    "from datetime import datetime\n",
    "import socket\n",
    "now = datetime.now()\n",
    "current_time = now.strftime(\"%H:%M:%S\")\n",
    "print(f\"Time: {current_time}\")\n",
    "print(f\"IP address: {socket.gethostbyname(socket.gethostname())}\")\n",
    "class Node:\n",
    "    pass"
   ]
  },
  {
   "cell_type": "code",
   "execution_count": null,
   "id": "09bfc039",
   "metadata": {},
   "outputs": [],
   "source": [
    "from typing import Any, Sequence\n",
    "def my_counter(seq: Sequence, target: Any) -> int:\n",
    "    pass\n",
    "    \n",
    "\n",
    "# 아래는 수정하지 마시오.\n",
    "print(my_counter([2,6,4,3,2,1,2,8], 2)) # 2가 리스트 안에 몇개 있는지 리턴\n",
    "print(my_counter([6,4,3,2,1,2,4], 4))\n",
    "print(my_counter([6,4,3,2,1,2,8], 8))\n",
    "print(my_counter([6,4,3,2,1,2,8], 10))"
   ]
  },
  {
   "cell_type": "markdown",
   "id": "61e99a1e",
   "metadata": {},
   "source": [
    "---\n",
    "### 문제2\n",
    "​\n",
    "반복적 방법을 이용하여 이진탐색 함수를 구현하시오.\n",
    "​\n",
    "주의) 재귀적 방법을 사용하면 안됨\n",
    "​\n",
    "- 파라미터:\n",
    "    - seq: Sequence 자료형\n",
    "    - target: 찾고 싶은 대상\n",
    "- 리턴: \n",
    "    - target이 발견되었다면 target이 발견된 인덱스 번호를 리턴\n",
    "    - 만약 target이 발결되지 않았다면 -1 리턴\n",
    "​\n",
    "​\n",
    "​\n",
    "***결과***\n",
    "```\n",
    "2\n",
    "7\n",
    "-1\n",
    "```"
   ]
  },
  {
   "cell_type": "code",
   "execution_count": null,
   "id": "725a47b2",
   "metadata": {},
   "outputs": [],
   "source": [
    "def binary_search_iter(seq: Sequence, target: Any) -> int:\n",
    "    \n",
    "    \n",
    "    \n",
    "    pass\n",
    "    \n",
    "# 아래는 수정하지 마시오.\n",
    "nums = [0, 1, 3, 4, 5, 6, 8, 9, 12]\n",
    "\n",
    "print(binary_search_iter(nums, 3))\n",
    "print(binary_search_iter(nums, 9))\n",
    "print(binary_search_iter(nums, 7))"
   ]
  },
  {
   "cell_type": "markdown",
   "id": "600c7b4e",
   "metadata": {},
   "source": [
    "---\n",
    "### 문제1\n",
    "\n",
    "반복적 이진탐색을 이용하여 특정 숫자가 들어 있는 튜플의 위치를 리턴하는 함수를 작성하시오.\n",
    "\n",
    "- 파라미터:\n",
    "    - seq: 데이터 시퀀스로 각 원소는 (int, str) 형태로 되어 있다. 튜플들은 숫자를 기준으로 오름차순으로 정렬되어 있다.\n",
    "    - target: 찾고 싶은 숫자 값\n",
    "- 리턴: target이 있는 튜플의 인덱스 값 리턴, 검색 실패시 -1 리턴\n",
    "\n",
    "***결과***\n",
    "```\n",
    "5\n",
    "1\n",
    "-1\n",
    "```"
   ]
  },
  {
   "cell_type": "code",
   "execution_count": null,
   "id": "0ec281ad",
   "metadata": {},
   "outputs": [],
   "source": [
    "from typing import Any, List, Tuple, Dict, Sequence\n",
    "def binary_search_iter(seq: Sequence, target: Any) -> int:\n",
    "    pass\n",
    "\n",
    "\n",
    "# 아래는 수정하지 마시오.\n",
    "arr = [(2, 'A'), (5, 'D'), (6, 'B'), (8, 'G'), (9, 'E'), (11, 'F'), (12, 'I'), (17, 'H')]\n",
    "\n",
    "print(binary_search_iter(arr, 11))\n",
    "print(binary_search_iter(arr, 5))\n",
    "print(binary_search_iter(arr, 7))"
   ]
  },
  {
   "cell_type": "markdown",
   "id": "84fdef08",
   "metadata": {},
   "source": [
    "---\n",
    "### 문제2\n",
    "\n",
    "```\n",
    "숫자 카드는 정수 하나가 적혀져 있는 카드이다. 상근이는 숫자 카드 N개를 가지고 있다. 정수 M개가 주어졌을 때, 이 수가 적혀있는 숫자 카드를 상근이가 몇 개 가지고 있는지 구하는 프로그램을 작성하시오.\n",
    "```\n",
    "\n",
    "- 파라미터:\n",
    "    - cards: 정수들이 들어 있는 리스트로, 숫자가 적힌 카드들을 의미한다.\n",
    "    - nums: 정수들이 들어 있는 리스트 \n",
    "- 리턴:\n",
    "    - nums에 들어 있는 수가 적혀있는 카드를 몇 개 가지고 있는지 리스트 형태로 리턴힌다.\n",
    "\n",
    "### 결과\n",
    "```\n",
    "[3, 0, 0, 1, 2, 0, 0, 2]\n",
    "```"
   ]
  },
  {
   "cell_type": "markdown",
   "id": "f3be824a",
   "metadata": {},
   "source": [
    "---\n",
    "### 문제3\n",
    "\n",
    "most_element() 함수는 리스트 nums에서 가장 빈번하게 나오는 원소를 리턴한다. 이 함수를 작성하시오.\n",
    "\n",
    "- 주의) \n",
    "    - 반드시 O(N) 시간 안에 끝나도록 작성하시오.\n",
    "    - 딕셔너리와 반복문을 이용하여 작성하시오.\n",
    "    - 가장 빈번하게 나오는 원소는 하나밖에 없다고 가정한다.\n",
    "\n",
    "- 파라미터:\n",
    "    - nums: 리스트\n",
    "- 리턴:\n",
    "    - nums 에서 가장 빈번하게 나온 원소를 리턴\n",
    "\n",
    "\n",
    "***결과***\n",
    "```\n",
    "1\n",
    "3\n",
    "C\n",
    "```"
   ]
  },
  {
   "cell_type": "code",
   "execution_count": null,
   "id": "e3b2aa5a",
   "metadata": {},
   "outputs": [],
   "source": [
    "from typing import Any, List, Dict ,Sequence\n",
    "\n",
    "def most_element(nums: List[Any]) -> Any:\n",
    "\n",
    "    \n",
    "    pass\n",
    "\n",
    "# 아래는 수정하지 마시오.\n",
    "print(most_element([1,1,3]))\n",
    "print(most_element([1,3,1,2,3,1,2,3,3]))\n",
    "print(most_element(['A', 'B', 'C', 'C', 'B', 'C', 'D', 'D']))\n",
    "\n"
   ]
  },
  {
   "cell_type": "markdown",
   "id": "b894ed73",
   "metadata": {},
   "source": [
    "---\n",
    "### 문제1\n",
    "\n",
    "선형탐색을 수행하는 linear_search() 함수를 완성하시오.\n",
    "\n",
    "이 함수는 Sequence 자료형 seq에서 선형탐색하여 target이 존재하면 그 인덱스를 리턴하고 존재하지 않으면 -1을 리턴한다.\n",
    "\n",
    "***결과***\n",
    "```\n",
    "3\n",
    "1\n",
    "6\n",
    "-1\n",
    "```"
   ]
  },
  {
   "cell_type": "code",
   "execution_count": null,
   "id": "b1b10e82",
   "metadata": {},
   "outputs": [],
   "source": [
    "from typing import Any, Sequence\n",
    "def linear_search(seq: Sequence, target: Any) -> int:\n",
    "    pass\n",
    "\n",
    "# 아래는 수정하지 마시오.\n",
    "print(linear_search([6,4,3,2,1,2,8], 2))\n",
    "print(linear_search([6,4,3,2,1,2,8], 4))\n",
    "print(linear_search([6,4,3,2,1,2,8], 8))\n",
    "print(linear_search([6,4,3,2,1,2,8], 10))"
   ]
  },
  {
   "cell_type": "markdown",
   "id": "e158de74",
   "metadata": {},
   "source": [
    "---\n",
    "### 문제2\n",
    "\n",
    "재귀적 방법을 이용하여 이진탐색 함수를 구현하시오.\n",
    "\n",
    "- 파라미터:\n",
    "    - seq: Sequence 자료형\n",
    "    - target: 찾고 싶은 대상\n",
    "    - left: 탐색 범위 시작 인덱스\n",
    "    - right: 탐색 범위 마지막 인덱스\n",
    "- 리턴: \n",
    "    - target이 발견되었다면 target이 발견된 인덱스 번호를 리턴\n",
    "    - 만약 target이 발결되지 않았다면 -1 리턴\n",
    "\n",
    "\n",
    "\n",
    "***결과***\n",
    "```\n",
    "1\n",
    "4\n",
    "```"
   ]
  },
  {
   "cell_type": "code",
   "execution_count": null,
   "id": "603a53c7",
   "metadata": {},
   "outputs": [],
   "source": [
    "from typing import Any, List, Dict ,Sequence\n",
    "\n",
    "def binary_search(seq: Sequence, target: Any, left: int, right: int) -> int:\n",
    "\n",
    "    \n",
    "    pass\n",
    "\n",
    "# 아래는 수정하지 마시오.\n",
    "nums = [1, 2, 3, 4, 5, 6, 8]\n",
    "print(binary_search(nums, 2, 0, len(nums)))\n",
    "print(binary_search(nums, 5, 0, len(nums)))"
   ]
  },
  {
   "cell_type": "markdown",
   "id": "274b6732",
   "metadata": {},
   "source": [
    "---\n",
    "### 문제3\n",
    "\n",
    "my_counter() 함수는 리스트 nums에서 원소의 개수를 value로 갖는 딕셔너리를 리턴한다. 이 함수를 완성하시오.\n",
    "\n",
    "- 파라미터:\n",
    "    - nums: 리스트\n",
    "- 리턴:\n",
    "    - 딕셔너리를 리턴한다.\n",
    "        - 이 딕셔너리의 key는 리스트 nums의 각 원소이다.\n",
    "        - 이 딕셔너리의 value는 각 원소의 개수이다.\n",
    "        - 예시) `my_counter([1,1,3])` 리스트안에 1이 2개 있고 2가 3개 있기 때문에 리턴값은 {1:2, 3:1} 이다.\n",
    "\n",
    "\n",
    "***결과***\n",
    "```\n",
    "{1: 2, 3: 1}\n",
    "{1: 3, 2: 2, 3: 1}\n",
    "{'A': 1, 'B': 2, 'C': 3}\n",
    "```"
   ]
  },
  {
   "cell_type": "code",
   "execution_count": null,
   "id": "a4110851",
   "metadata": {},
   "outputs": [],
   "source": [
    "from typing import Any, List, Dict ,Sequence\n",
    "\n",
    "def my_counter(nums: List[Any]) -> Dict[Any, int]:\n",
    "\n",
    "    \n",
    "    \n",
    "    pass\n",
    "\n",
    "# 아래는 수정하지 마시오.\n",
    "print(my_counter([1,1,3]))\n",
    "print(my_counter([1,1,2,1,2,3]))\n",
    "print(my_counter(['A', 'B', 'C', 'C', 'B', 'C']))\n"
   ]
  },
  {
   "cell_type": "markdown",
   "id": "4935bd0e",
   "metadata": {},
   "source": [
    "---\n",
    "### 문제1\n",
    "\n",
    "이진탐색 기법을 이용하여 이진탐색 함수 binary_search_recursive2() 를 완성하시오.\n",
    "\n",
    "- 파라미터:\n",
    "    - seq: 데이터들이 들어 있는 시퀀스\n",
    "    - target: 찾고 싶은 값\n",
    "    - left: 탐색 해야 하는 시작 인덱스\n",
    "    - right: 탐색 해야 하는 마지막 인덱스 \n",
    "- 리턴: 탐색에 성공한 경우는 해당 인덱스를 리턴하고 실패한 경우에는 -1을 리턴\n",
    "\n",
    "***결과***\n",
    "```\n",
    "1\n",
    "4\n",
    "8\n",
    "```"
   ]
  },
  {
   "cell_type": "code",
   "execution_count": null,
   "id": "b5d411e1",
   "metadata": {},
   "outputs": [],
   "source": [
    "from typing import Any, List, Tuple, Dict, Sequence\n",
    "def binary_search_recursive2(seq: Sequence, target: Any, left: int, right: int) -> int:\n",
    "    pass\n",
    "    \n",
    "nums = [1, 2, 3, 4, 5, 6, 8, 10, 12, 15]\n",
    "print(binary_search_recursive2(nums, 2, 0, len(nums)-1))\n",
    "print(binary_search_recursive2(nums, 5, 0, len(nums)-1))\n",
    "print(binary_search_recursive2(nums, 12, 0, len(nums)-1))"
   ]
  },
  {
   "cell_type": "markdown",
   "id": "8e219109",
   "metadata": {},
   "source": [
    "---\n",
    "## 문제2\n",
    "\n",
    "친구로부터 노트북을 중고로 산 스브러스는 노트북을 켜자마자 경악할 수밖에 없었다. 바탕화면에 온갖 파일들이 정리도 안 된 채 가득했기 때문이다. 그리고 화면의 구석에서 친구의 메시지를 확인할 수 있었다.\n",
    "\n",
    "\n",
    ">바탕화면의 파일들에는 값진 보물에 대한 정보가 들어 있어. 하나라도 지우게 된다면 보물은 물론이고 다시는 노트북을 쓸 수 없게 될 거야. 파일들을 잘 분석해서 보물의 주인공이 될 수 있길 바랄게. 힌트는 “확장자”야.\n",
    "\n",
    "\n",
    "화가 났던 스브러스는 보물 이야기에 금세 화가 풀렸고 보물의 정보를 알아내려고 애썼다. 하지만 파일이 너무 많은 탓에 이내 포기했고 보물의 절반을 보상으로 파일의 정리를 요청해왔다. 스브러스의 요청은 다음과 같다.\n",
    "\n",
    "1. 파일을 확장자 별로 정리해서 몇 개씩 있는지 알려줘.\n",
    "1. 보기 편하게 확장자들을 사전 순으로 정렬해 줘.\n",
    "\n",
    "\n",
    "그럼 보물의 절반을 얻어내기 위해 얼른 스브러스의 노트북 파일 정리를 해줄 프로그램을 만들자!\n",
    "\n",
    "\n",
    "파일의 이름은 알파벳 소문자와 점(.)으로만 구성되어 있다. 점은 정확히 한 번 등장하며, 파일 이름의 첫 글자 또는 마지막 글자로 오지 않는다. \n",
    "\n",
    "\n",
    "- 파라미터:\n",
    "    - files: 파일 이름들이 들어 있는 리스트\n",
    "- 리턴:\n",
    "    - 확장자의 이름과 그 확장자 파일의 개수를 튜플형태로 가지는 리스트. 확장자가 여러 개 있는 경우 확장자 개수를 기준으로 정렬한다.\n",
    "    \n",
    "***결과***\n",
    "```\n",
    "[('world', 1), ('spc', 2), ('icpc', 2), ('txt', 3)]\n",
    "```"
   ]
  },
  {
   "cell_type": "code",
   "execution_count": null,
   "id": "dde3cb96",
   "metadata": {},
   "outputs": [],
   "source": [
    "from typing import Any, List, Tuple, Dict, Sequence\n",
    "def extention_count(files: List[str]) -> List[Tuple[str, int]]:\n",
    "    pass\n",
    "\n",
    "print(extention_count([\"sbrus.txt\",\"spc.spc\",\"acm.icpc\",\"korea.icpc\",\n",
    "                       \"sample.txt\",\"hello.world\",\"sogang.spc\",\"example.txt\"]))"
   ]
  },
  {
   "cell_type": "markdown",
   "id": "a4e9aff7",
   "metadata": {},
   "source": [
    "---\n",
    "### 문제3\n",
    "\n",
    "배열을 이용하여 완전이진트리를 구현 했을 때, index에 위치한 노드의 차수를 구하는 get_degree() 함수를 작성하시오.\n",
    "\n",
    "- 파라미터:\n",
    "    - complete_binary_tree: 완전이진트리의 배열로 구현한 리스트\n",
    "    - index: 노드의 인덱스\n",
    "- 리턴:\n",
    "    - index에 위치한 노드의 차수를 리턴\n",
    "    - 만약 index의 위치에 노드가 없는 경우 -1 리턴\n",
    "\n",
    "***결과***\n",
    "```\n",
    "2\n",
    "1\n",
    "0\n",
    "\n",
    "2\n",
    "1\n",
    "0\n",
    "-1\n",
    "```"
   ]
  },
  {
   "cell_type": "code",
   "execution_count": null,
   "id": "8dc13220",
   "metadata": {},
   "outputs": [],
   "source": [
    "from typing import Any, List, Tuple, Dict, Sequence\n",
    "import math\n",
    "def get_degree(complete_binary_tree, index):\n",
    "\n",
    "    \n",
    "    pass\n",
    "\n",
    "# 아래는 수정하지 마시오.\n",
    "cbt = [None, 'A', 'B', 'C', 'D']\n",
    "print(get_degree(cbt, index=1))\n",
    "print(get_degree(cbt, index=2)) \n",
    "print(get_degree(cbt, index=4)) \n",
    "print()\n",
    "cbt = [None, 'A', 'B', 'C', 'D', 'E', 'F', 'G', 'H', 'I', 'J']\n",
    "print(get_degree(cbt, index=1))\n",
    "print(get_degree(cbt, index=5))\n",
    "print(get_degree(cbt, index=6)) \n",
    "print(get_degree(cbt, index=11)) "
   ]
  }
 ],
 "metadata": {
  "kernelspec": {
   "display_name": "Python 3",
   "language": "python",
   "name": "python3"
  },
  "language_info": {
   "codemirror_mode": {
    "name": "ipython",
    "version": 3
   },
   "file_extension": ".py",
   "mimetype": "text/x-python",
   "name": "python",
   "nbconvert_exporter": "python",
   "pygments_lexer": "ipython3",
   "version": "3.8.8"
  },
  "toc": {
   "base_numbering": 1,
   "nav_menu": {},
   "number_sections": true,
   "sideBar": true,
   "skip_h1_title": false,
   "title_cell": "Table of Contents",
   "title_sidebar": "Contents",
   "toc_cell": false,
   "toc_position": {},
   "toc_section_display": true,
   "toc_window_display": false
  },
  "varInspector": {
   "cols": {
    "lenName": 16,
    "lenType": 16,
    "lenVar": 40
   },
   "kernels_config": {
    "python": {
     "delete_cmd_postfix": "",
     "delete_cmd_prefix": "del ",
     "library": "var_list.py",
     "varRefreshCmd": "print(var_dic_list())"
    },
    "r": {
     "delete_cmd_postfix": ") ",
     "delete_cmd_prefix": "rm(",
     "library": "var_list.r",
     "varRefreshCmd": "cat(var_dic_list()) "
    }
   },
   "types_to_exclude": [
    "module",
    "function",
    "builtin_function_or_method",
    "instance",
    "_Feature"
   ],
   "window_display": false
  }
 },
 "nbformat": 4,
 "nbformat_minor": 5
}
