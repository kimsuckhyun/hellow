{
 "cells": [
  {
   "cell_type": "code",
   "execution_count": 3,
   "metadata": {
    "ExecuteTime": {
     "end_time": "2019-10-22T17:32:30.287581Z",
     "start_time": "2019-10-22T17:32:30.281598Z"
    }
   },
   "outputs": [
    {
     "data": {
      "text/html": [
       "<style>.container { width:95% !important; }</style>"
      ],
      "text/plain": [
       "<IPython.core.display.HTML object>"
      ]
     },
     "metadata": {},
     "output_type": "display_data"
    },
    {
     "data": {
      "text/html": [
       "<style>.input_area pre {font-family: Consolas; font-size: 15pt; line-height: 140%; font-weight: bold}</style>"
      ],
      "text/plain": [
       "<IPython.core.display.HTML object>"
      ]
     },
     "metadata": {},
     "output_type": "display_data"
    },
    {
     "data": {
      "text/html": [
       "<style>.output_area pre {font-family: Consolas; font-size: 15pt; line-height: 140%;}</style>"
      ],
      "text/plain": [
       "<IPython.core.display.HTML object>"
      ]
     },
     "metadata": {},
     "output_type": "display_data"
    }
   ],
   "source": [
    "from IPython.core.display import display, HTML\n",
    "display(HTML(\"<style>.container { width:95% !important; }</style>\"))\n",
    "display(HTML(\"<style>.input_area pre {font-family: Consolas; font-size: 15pt; line-height: 140%; font-weight: bold}</style>\"))\n",
    "display(HTML(\"<style>.output_area pre {font-family: Consolas; font-size: 15pt; line-height: 140%;}</style>\"))\n"
   ]
  },
  {
   "cell_type": "markdown",
   "metadata": {},
   "source": [
    "# << 2021 데이터구조 (화) 중간고사 >>\n",
    "\n",
    "- 주의 사항\n",
    "    1. 시험시간 15:40 ~ 17:00\n",
    "    1. 부분점수는 없습니다.\n",
    "    1. 휴대폰의 전원을 끄세요.\n",
    "    1. 개인 전자기기를 사용할 수 없습니다.\n",
    "    1. closed book\n",
    "        1. 모든 인터넷을 사용할 수 없습니다.\n",
    "        1. 모든 자료를 볼 수 없습니다.\n",
    "    1. 수시로 저장하세요.\n",
    "    1. 셀을 실행시켰을 때, 멈추지 않는다면, 주피터노트북 메뉴에 있는 정지버튼을 누르거나 Kernel 메뉴에서 restart를 누르세요.\n",
    "        - 그래도 동작하지 않는 경우에는 주피터노트북을 다시 시작하세요.\n",
    "- 제출 방법\n",
    "    1. `잘못된 파일을 제출했을 경우 기본 점수로 채점됩니다.`\n",
    "    1. 파일 이름에서 '학번'을 자신의 학번으로, '이름'을 자신의 이름으로 고치시오.\n",
    "    1. 캔버스에 주피터노트북 파일(.ipynb)을 제출하세요.\n",
    "        1. 캔버스 사용이 불가능한 경우, 이메일로 아래 주소로 제출 하세요.\n",
    "            - ydhwang@suwon.ac.kr\n",
    "            - 메일제목: `[데이터구조(화)] 홍길동`\n",
    "    1. 제출후 모든 파일을 반드시 삭제하세요.\n"
   ]
  },
  {
   "cell_type": "markdown",
   "metadata": {},
   "source": [
    "## 아래 두 셀을 실행시키시오."
   ]
  },
  {
   "cell_type": "code",
   "execution_count": 3,
   "metadata": {},
   "outputs": [],
   "source": [
    "# 이 셀을 실행시키세요.\n",
    "from __future__ import annotations"
   ]
  },
  {
   "cell_type": "code",
   "execution_count": 2,
   "metadata": {},
   "outputs": [
    {
     "name": "stdout",
     "output_type": "stream",
     "text": [
      "IP Address(Internal) :  192.168.0.9\n"
     ]
    }
   ],
   "source": [
    "# 이 셀을 실행시키세요.\n",
    "import socket\n",
    "print(\"IP Address(Internal) : \",socket.gethostbyname(socket.gethostname()))\n",
    "from typing import Any, List, Tuple, Dict\n",
    "from collections import deque\n",
    "class Node:\n",
    "    pass"
   ]
  },
  {
   "cell_type": "markdown",
   "metadata": {
    "ExecuteTime": {
     "end_time": "2019-10-22T07:55:36.236793Z",
     "start_time": "2019-10-22T07:55:36.231780Z"
    }
   },
   "source": [
    "---\n",
    "# 주관식 문제\n",
    "\n",
    "- 문제당 6점"
   ]
  },
  {
   "cell_type": "markdown",
   "metadata": {},
   "source": [
    "---\n",
    "### 문제1\n",
    "\n",
    "프로그램에서 저장하는 데이터에 대해 탐색, 삽입, 삭제 등의 연산을 효율적으로 수행하기 위해서 데이터를 정돈하여 저장한 구성체를 무엇이라고 하는가?\n"
   ]
  },
  {
   "cell_type": "code",
   "execution_count": 7,
   "metadata": {
    "ExecuteTime": {
     "end_time": "2020-10-20T04:42:24.561436Z",
     "start_time": "2020-10-20T04:42:24.547442Z"
    }
   },
   "outputs": [
    {
     "name": "stdout",
     "output_type": "stream",
     "text": [
      "\n"
     ]
    }
   ],
   "source": [
    "print(\"데이터구조\")"
   ]
  },
  {
   "cell_type": "markdown",
   "metadata": {},
   "source": [
    "---\n",
    "### 문제2\n",
    "\n",
    "어떤 함수의 내부에서 자기 자신을 호출하는 함수를 무엇이라고 하는가?\n",
    "\n"
   ]
  },
  {
   "cell_type": "code",
   "execution_count": 8,
   "metadata": {
    "ExecuteTime": {
     "end_time": "2020-10-20T04:42:28.110626Z",
     "start_time": "2020-10-20T04:42:28.102647Z"
    },
    "scrolled": true
   },
   "outputs": [
    {
     "name": "stdout",
     "output_type": "stream",
     "text": [
      "\n"
     ]
    }
   ],
   "source": [
    "print(\"재귀함수\")"
   ]
  },
  {
   "cell_type": "markdown",
   "metadata": {},
   "source": [
    "---\n",
    "### 문제3\n",
    "\n",
    "어떤 알고리즘이 선형시간(Linear Time)에 수행된다. 이 알고리즘의 시간복잡도를 빅오표기법으로 표시하시오."
   ]
  },
  {
   "cell_type": "code",
   "execution_count": 9,
   "metadata": {
    "ExecuteTime": {
     "end_time": "2020-10-20T04:42:31.766918Z",
     "start_time": "2020-10-20T04:42:31.757941Z"
    },
    "scrolled": false
   },
   "outputs": [
    {
     "name": "stdout",
     "output_type": "stream",
     "text": [
      "\n"
     ]
    }
   ],
   "source": [
    "print(\"O(N)\")"
   ]
  },
  {
   "cell_type": "markdown",
   "metadata": {},
   "source": [
    "---\n",
    "### 문제4\n",
    "\n",
    "이것은 리스트를 구현하는 방법중 하나로 각 노드가 데이터와 포인터를 가지고 한 줄로 연결되어 있는 방식으로 데이터를 저장하는 자료구조이다. 이것은 무엇인가?\n"
   ]
  },
  {
   "cell_type": "code",
   "execution_count": 10,
   "metadata": {
    "ExecuteTime": {
     "end_time": "2020-10-20T04:42:35.157320Z",
     "start_time": "2020-10-20T04:42:35.142360Z"
    }
   },
   "outputs": [
    {
     "name": "stdout",
     "output_type": "stream",
     "text": [
      "\n"
     ]
    }
   ],
   "source": [
    "print(\"linkedlist\")"
   ]
  },
  {
   "cell_type": "markdown",
   "metadata": {},
   "source": [
    "---\n",
    "### 문제5\n",
    "\n",
    "이것은 스택의 특징으로 가장 최근에 넣은 값이 가장 먼저 나오는 데이터 입출력 방식을 무엇이라고 하는가?\n",
    "\n",
    "반드시 영어 알바벳 4글자로 쓰시오.(한글은 오답처리)"
   ]
  },
  {
   "cell_type": "code",
   "execution_count": 11,
   "metadata": {
    "ExecuteTime": {
     "end_time": "2020-10-20T04:42:38.863848Z",
     "start_time": "2020-10-20T04:42:38.853843Z"
    },
    "scrolled": true
   },
   "outputs": [
    {
     "name": "stdout",
     "output_type": "stream",
     "text": [
      "\n"
     ]
    }
   ],
   "source": [
    "print(\"LIfo\")"
   ]
  },
  {
   "cell_type": "markdown",
   "metadata": {},
   "source": [
    "----\n",
    "# O,X 문제\n",
    "1. 맞으면 `O`, 틀리면 `X`를 `print()`를 이용하여 출력하시오.\n",
    "1. 배점: 문제를 맞추면 6점, 비워두면 3점, 틀리면 0점"
   ]
  },
  {
   "cell_type": "markdown",
   "metadata": {},
   "source": [
    "---\n",
    "### 문제1\n",
    "\n",
    "모든 $N {\\geq} N_0$에 대해서 $f(N) {\\geq} cg(N)$이 성립하는 양의 상수 $c$와 $N_0$이 존재하면, $f(N) = O(g(N))$이다.\n",
    "\n"
   ]
  },
  {
   "cell_type": "code",
   "execution_count": 12,
   "metadata": {
    "ExecuteTime": {
     "end_time": "2020-10-20T04:43:02.117556Z",
     "start_time": "2020-10-20T04:43:02.109556Z"
    },
    "scrolled": true
   },
   "outputs": [
    {
     "name": "stdout",
     "output_type": "stream",
     "text": [
      "\n"
     ]
    }
   ],
   "source": [
    "print(\"x\")"
   ]
  },
  {
   "cell_type": "markdown",
   "metadata": {},
   "source": [
    "---\n",
    "### 문제2\n",
    "\n",
    "$4N^{2}+N^{2}logN=O(N^2)$\n",
    "\n"
   ]
  },
  {
   "cell_type": "code",
   "execution_count": 13,
   "metadata": {
    "ExecuteTime": {
     "end_time": "2020-10-20T04:43:04.772725Z",
     "start_time": "2020-10-20T04:43:04.765744Z"
    }
   },
   "outputs": [
    {
     "name": "stdout",
     "output_type": "stream",
     "text": [
      "\n"
     ]
    }
   ],
   "source": [
    "print(\"o\")"
   ]
  },
  {
   "cell_type": "markdown",
   "metadata": {},
   "source": [
    "---\n",
    "### 문제3\n",
    "\n",
    "다음 함수의 시간복잡도는 O(1) 이다.\n",
    "\n",
    "```python\n",
    "def my_func(N):\n",
    "    r = 0\n",
    "    for i in range(N):\n",
    "        if i == int(N/2):\n",
    "            break\n",
    "        r += 1\n",
    "    return r\n",
    "```\n",
    "\n"
   ]
  },
  {
   "cell_type": "code",
   "execution_count": 14,
   "metadata": {
    "ExecuteTime": {
     "end_time": "2020-10-20T04:43:07.078948Z",
     "start_time": "2020-10-20T04:43:07.061993Z"
    }
   },
   "outputs": [
    {
     "name": "stdout",
     "output_type": "stream",
     "text": [
      "\n"
     ]
    }
   ],
   "source": [
    "print(\"\")"
   ]
  },
  {
   "cell_type": "markdown",
   "metadata": {},
   "source": [
    "---\n",
    "### 문제4\n",
    "\n",
    "선입선출은 큐의 특징이다."
   ]
  },
  {
   "cell_type": "code",
   "execution_count": 15,
   "metadata": {
    "ExecuteTime": {
     "end_time": "2020-10-20T04:43:09.602517Z",
     "start_time": "2020-10-20T04:43:09.597502Z"
    },
    "scrolled": true
   },
   "outputs": [
    {
     "name": "stdout",
     "output_type": "stream",
     "text": [
      "\n"
     ]
    }
   ],
   "source": [
    "print(\"o\")"
   ]
  },
  {
   "cell_type": "markdown",
   "metadata": {},
   "source": [
    "---\n",
    "### 문제5\n",
    "\n",
    "스택을 이용하여 아래 괄호들이 짝이 맞는지 확일 할때, push 연산을 3번 수행한다.\n",
    "```\n",
    "{ } [ { } ] ( )\n",
    "```"
   ]
  },
  {
   "cell_type": "code",
   "execution_count": 16,
   "metadata": {
    "ExecuteTime": {
     "end_time": "2020-10-20T04:43:11.879652Z",
     "start_time": "2020-10-20T04:43:11.861700Z"
    },
    "scrolled": true
   },
   "outputs": [
    {
     "name": "stdout",
     "output_type": "stream",
     "text": [
      "\n"
     ]
    }
   ],
   "source": [
    "print(\"\")"
   ]
  },
  {
   "cell_type": "markdown",
   "metadata": {},
   "source": [
    "---\n",
    "\n",
    "# 코딩 문제\n",
    "\n",
    "- 문제당 13점\n"
   ]
  },
  {
   "cell_type": "markdown",
   "metadata": {},
   "source": [
    "---\n",
    "### 문제1\n",
    "\n",
    "print_head() 함수는 input_list의 원소들 중에서 앞에서부터 최대 5개만 출력하는 함수이다.\n",
    "\n",
    "이 함수를 작성하시오.\n",
    "\n",
    "***결과***\n",
    "```\n",
    "1\n",
    "2\n",
    "3\n",
    "\n",
    "10\n",
    "20\n",
    "30\n",
    "40\n",
    "50\n",
    "```"
   ]
  },
  {
   "cell_type": "code",
   "execution_count": 23,
   "metadata": {
    "ExecuteTime": {
     "end_time": "2020-10-20T04:43:34.314536Z",
     "start_time": "2020-10-20T04:43:34.309550Z"
    }
   },
   "outputs": [
    {
     "name": "stdout",
     "output_type": "stream",
     "text": [
      "1\n",
      "2\n",
      "3\n",
      "\n",
      "10\n",
      "20\n",
      "30\n",
      "40\n",
      "50\n"
     ]
    }
   ],
   "source": [
    "def print_head(input_list):\n",
    "    if len(input_list)<5:\n",
    "        for i in range(len(input_list)):\n",
    "            print(input_list[i])\n",
    "    else:   \n",
    "        for i in range(5):\n",
    "            print(input_list[i])\n",
    "    pass\n",
    "\n",
    "# 아래는 수정하지 마시오.\n",
    "print_head([1,2,3])\n",
    "print()\n",
    "print_head([10, 20, 30, 40, 50, 60])"
   ]
  },
  {
   "cell_type": "markdown",
   "metadata": {},
   "source": [
    "---\n",
    "### 문제2\n",
    "\n",
    "아래는 주사위를 구현한 Dice 클래스이다.\n",
    "\n",
    "아래 Dice 클래스를 수정하여 주사위의 바닥면에 있는 숫자를 리턴하는 메소드 get_bottom()가 잘 동작하도록 클래스를 수정하시오.\n",
    "\n",
    "- 주의\n",
    "    1. 주사위는 가장 윗면과 바닥면의 눈의 갯수의 합은 항상 7이되게 하시오.\n",
    "    2. 실행 결과는 실행할 때마다 매번 달라진다. 하지면 출력되는 두 숫자의 합은 항상 7이 되어야 한다.\n",
    "\n",
    "***결과***\n",
    "```\n",
    "3 4\n",
    "```"
   ]
  },
  {
   "cell_type": "code",
   "execution_count": 11,
   "metadata": {
    "ExecuteTime": {
     "end_time": "2020-10-20T04:43:47.416004Z",
     "start_time": "2020-10-20T04:43:47.365140Z"
    }
   },
   "outputs": [
    {
     "name": "stdout",
     "output_type": "stream",
     "text": [
      "2 5\n"
     ]
    }
   ],
   "source": [
    "import random\n",
    "\n",
    "class Dice:\n",
    "    def __init__(self):\n",
    "        self.face = 0\n",
    "    \n",
    "    def get_face(self): \n",
    "        \"\"\"주사위의 윗면의 눈의 개수를 리턴한다.\"\"\"\n",
    "        return self.face\n",
    "    \n",
    "    def roll(self): \n",
    "        \"\"\"주사위를 굴린다.\"\"\"\n",
    "        self.face =  random.randint(1,6) # 1~6 사이의 랜덤한 정수값으로 face 속성을 갱신한다.\n",
    "    def get_bottom(self):\n",
    "        self.bottom=7-self.face\n",
    "        return self.bottom\n",
    "# 아래는 수정하지 마시오.\n",
    "d =  Dice()\n",
    "d.roll()\n",
    "print(d.get_face(), d.get_bottom())"
   ]
  },
  {
   "cell_type": "markdown",
   "metadata": {},
   "source": [
    "---\n",
    "### 문제3\n",
    "\n",
    "재귀적 방법을 이용하여 nums 원소들 중에서 최대값을 리턴하는 함수 find_max()를 작성하시오.\n",
    "\n",
    "- 주의) \n",
    "    - 리스트 nums의 길이는 1 이상이라고 가정한다.\n",
    "    - 반드시 재귀적 방법으로 작성\n",
    "    - 반복문 사용 불가\n",
    "    - 정렬 또는 최대/최소값을 구하는 함수 사용 불가\n",
    "\n",
    "***결과***\n",
    "```\n",
    "1\n",
    "5\n",
    "15\n",
    "```"
   ]
  },
  {
   "cell_type": "code",
   "execution_count": 43,
   "metadata": {
    "ExecuteTime": {
     "end_time": "2020-10-20T04:44:11.486852Z",
     "start_time": "2020-10-20T04:44:11.478873Z"
    },
    "scrolled": true
   },
   "outputs": [
    {
     "name": "stdout",
     "output_type": "stream",
     "text": [
      "1\n",
      "5\n",
      "15\n"
     ]
    }
   ],
   "source": [
    "def find_max(nums):\n",
    "    if len(nums)<=1:\n",
    "        return 0\n",
    "    else:\n",
    "        if nums[0]<find_max(nums[1:]):\n",
    "            return find_max(nums[1:])\n",
    "        else:\n",
    "            return nums[0]\n",
    "        \n",
    "    pass\n",
    "\n",
    "# 아래는 수정하지 마시오.\n",
    "print(find_max([-1,-1,0,0,0,1,0,1]))\n",
    "print(find_max([4,3,5,1,5,2]))\n",
    "print(find_max([10, 14, 15, 7, 5, 8]))\n"
   ]
  },
  {
   "cell_type": "markdown",
   "metadata": {},
   "source": [
    "---\n",
    "### 문제4\n",
    "\n",
    "연결리스트 클래스에서 마지막 노드를 제거하는 remove_last() 메소드를 작성하시오.\n",
    "\n",
    "***결과***\n",
    "```\n",
    "A->B->C\n",
    "A->B\n",
    "A\n",
    "```"
   ]
  },
  {
   "cell_type": "code",
   "execution_count": 44,
   "metadata": {
    "ExecuteTime": {
     "end_time": "2020-10-20T04:44:41.720313Z",
     "start_time": "2020-10-20T04:44:41.701380Z"
    },
    "scrolled": false
   },
   "outputs": [
    {
     "name": "stdout",
     "output_type": "stream",
     "text": [
      "A->B->C\n",
      "A->B\n",
      "A\n"
     ]
    }
   ],
   "source": [
    "class Node:\n",
    "    \"\"\"연결 리스트용 노드 클래스\"\"\"\n",
    "\n",
    "    def __init__(self, data: Any = None, next: Node = None):\n",
    "        \"\"\"초기화\"\"\"\n",
    "        self.data = data  # 데이터\n",
    "        self.next = next  # 뒤쪽 포인터\n",
    "\n",
    "\n",
    "class LinkedList:\n",
    "    \"\"\"연결 리스트 클래스\"\"\"\n",
    "\n",
    "    def __init__(self) -> None:\n",
    "        \"\"\"초기화\"\"\"\n",
    "        self.no = 0          # 노드의 개수\n",
    "        self.head = None     # 머리 노드\n",
    "\n",
    "    def __len__(self) -> int:\n",
    "        \"\"\"연결 리스트의 노드 개수를 반환\"\"\"\n",
    "        return self.no\n",
    "\n",
    "    def add_first(self, data: Any) -> None:\n",
    "        \"\"\"맨 앞에 노드를 삽입\"\"\"\n",
    "        ptr = self.head  # 삽입 전의 머리 노드\n",
    "        self.head = Node(data, ptr)\n",
    "        self.no += 1\n",
    "\n",
    "    def add_last(self, data: Any):\n",
    "        \"\"\"맨 끝에 노드를 삽입\"\"\"\n",
    "        if self.head is None :    # 리스트가 비어 있으면\n",
    "            self.add_first(data)  # 맨앞에 노드 삽입\n",
    "        else:\n",
    "            ptr = self.head\n",
    "            while ptr.next is not None:\n",
    "                ptr = ptr.next  # while문을 종료할 때 ptr은 꼬리 노드를 참조\n",
    "            ptr.next = Node(data, None)\n",
    "            self.no += 1\n",
    "\n",
    "    def print(self) -> None:\n",
    "        \"\"\"모든 노드를 출력\"\"\"\n",
    "        ptr = self.head\n",
    "\n",
    "        while ptr is not None:\n",
    "            print(ptr.data, end='')\n",
    "            if ptr.next is not None:\n",
    "                print('->', end='')\n",
    "            else:\n",
    "                print()\n",
    "            ptr = ptr.next\n",
    "    \n",
    "    ### 이 메소드를 완성하시오.\n",
    "    def remove_last(self):\n",
    "        \"\"\"꼬리 노드 삭제\"\"\"\n",
    "        if self.head is not None:\n",
    "            if self.head.next is None:\n",
    "                self.head=self.head.next\n",
    "                self.no-=1\n",
    "            else:\n",
    "                ptr=self.head\n",
    "                pre=self.head\n",
    "                while ptr.next is not None:\n",
    "                    pre=ptr\n",
    "                    ptr=ptr.next\n",
    "                \n",
    "                pre.next=None\n",
    "                self.no-=1\n",
    "                \n",
    "        \n",
    "## 아래는 수정하지 마시오.\n",
    "my_list = LinkedList()\n",
    "my_list.add_last('A')\n",
    "my_list.add_last('B')\n",
    "my_list.add_last('C')\n",
    "\n",
    "my_list.print()\n",
    "my_list.remove_last() # 마지막 노드 제거\n",
    "my_list.print()\n",
    "my_list.remove_last() # 마지막 노드 제거\n",
    "my_list.print()\n",
    "\n",
    "\n"
   ]
  },
  {
   "cell_type": "markdown",
   "metadata": {},
   "source": [
    "---\n",
    "### 문제5\n",
    "\n",
    "LinkedListStack 클래스의 push()와 pop() 메소드를 작성하시오.\n",
    " \n",
    "***결과***\n",
    "```\n",
    "1\n",
    "2\n",
    "3\n",
    "Top:4->5\n",
    "2\n",
    "```"
   ]
  },
  {
   "cell_type": "code",
   "execution_count": 6,
   "metadata": {
    "ExecuteTime": {
     "end_time": "2020-10-20T04:47:32.891489Z",
     "start_time": "2020-10-20T04:47:32.877498Z"
    }
   },
   "outputs": [
    {
     "name": "stdout",
     "output_type": "stream",
     "text": [
      "1\n",
      "2\n",
      "3\n",
      "Top:4->5\n",
      "2\n"
     ]
    }
   ],
   "source": [
    "class Node:\n",
    "    \"\"\"연결 리스트용 노드 클래스\"\"\"\n",
    "\n",
    "    def __init__(self, data: Any = None, next: Node = None):\n",
    "        \"\"\"초기화\"\"\"\n",
    "        self.data = data  # 데이터\n",
    "        self.next = next  # 뒤쪽 포인터\n",
    "\n",
    "\n",
    "class LinkedListStack:\n",
    "    \"\"\"연결리스트를 이용한 스택 클래스\"\"\"\n",
    "\n",
    "    def __init__(self) -> None:\n",
    "        \"\"\"초기화\"\"\"\n",
    "        self.no = 0          # 노드의 개수\n",
    "        self.top = None     # 탑 노드\n",
    "\n",
    "    def __len__(self) -> int:\n",
    "        \"\"\"스택의 크기 반환\"\"\"\n",
    "        return self.no\n",
    "    \n",
    "    def is_empty(self) -> bool:\n",
    "        \"\"\"스택이 비어있는지 확인\"\"\"\n",
    "        return self.top is None\n",
    "\n",
    "    ### 이 메소드를 완성하시오.\n",
    "    def push(self, data: Any) -> None:\n",
    "        \"\"\"스택에 데이터를 푸시\"\"\"\n",
    "        if self.is_empty():\n",
    "            self.top=Node(data)\n",
    "            self.no+=1\n",
    "        else:\n",
    "            ptr=self.top\n",
    "            self.top=Node(data,ptr)\n",
    "            self.no+=1\n",
    "            \n",
    "        pass\n",
    "        \n",
    "    ### 이 메소드를 완성하시오.\n",
    "    def pop(self) -> Any:\n",
    "        \"\"\"스택에서 탑에 있는 데이터를 꺼냄(삭제)\"\"\"\n",
    "        if not self.is_empty():\n",
    "            data=self.top.data\n",
    "            self.top=self.top.next\n",
    "            self.no-=1\n",
    "            return data\n",
    "        pass\n",
    "            \n",
    "    \n",
    "    def print(self) -> None:\n",
    "        \"\"\"스택의 모든 데이터를 탑에서 부터 출력\"\"\"\n",
    "        ptr = self.top\n",
    "        print(\"Top:\", end='')\n",
    "        while ptr is not None:\n",
    "            print(ptr.data, end='')\n",
    "            if ptr.next is not None:\n",
    "                print('->', end='')\n",
    "            else:\n",
    "                print()\n",
    "            ptr = ptr.next\n",
    "\n",
    "# 아래는 수정하지 마시오.\n",
    "stack = LinkedListStack()\n",
    "stack.push(5)\n",
    "stack.push(4)\n",
    "stack.push(1)\n",
    "print(stack.pop()) # 3\n",
    "stack.push(2)\n",
    "print(stack.pop()) # 4\n",
    "stack.push(3)\n",
    "print(stack.pop()) # 5\n",
    "stack.print()\n",
    "print(len(stack))\n",
    "\n",
    "\n"
   ]
  },
  {
   "cell_type": "markdown",
   "metadata": {},
   "source": [
    "---\n",
    "### 문제6\n",
    "\n",
    "LinkedListQueue 클래스의 enqueue() 메소드를 작성하시오.\n",
    "\n",
    "***결과***\n",
    "```\n",
    "1\n",
    "2\n",
    "Front: 3->4->5 :Rear\n",
    "3\n",
    "```"
   ]
  },
  {
   "cell_type": "code",
   "execution_count": 9,
   "metadata": {
    "ExecuteTime": {
     "end_time": "2020-10-20T04:47:37.010294Z",
     "start_time": "2020-10-20T04:47:36.989350Z"
    }
   },
   "outputs": [
    {
     "name": "stdout",
     "output_type": "stream",
     "text": [
      "1\n",
      "2\n",
      "Front: 3->4->5 :Rear\n",
      "3\n"
     ]
    }
   ],
   "source": [
    "class Node:\n",
    "    \"\"\"연결 리스트용 노드 클래스\"\"\"\n",
    "\n",
    "    def __init__(self, data: Any = None, next: Node = None):\n",
    "        \"\"\"초기화\"\"\"\n",
    "        self.data = data  # 데이터\n",
    "        self.next = next  # 뒤쪽 포인터\n",
    "\n",
    "\n",
    "class LinkedListQueue:\n",
    "    \"\"\"연결리스트를 이용한 큐 클래스\"\"\"\n",
    "\n",
    "    def __init__(self) -> None:\n",
    "        \"\"\"초기화\"\"\"\n",
    "        self.no = 0 # 노드의 개수\n",
    "        self.front = None # 프런트 노드\n",
    "        self.rear = None # 리어 노드     \n",
    "\n",
    "    def __len__(self) -> int:\n",
    "        \"\"\"큐의 크기 반환\"\"\"\n",
    "        return self.no\n",
    "    \n",
    "    def is_empty(self) -> bool:\n",
    "        \"\"\"큐가 비어있는지 확인\"\"\"\n",
    "        return self.front is None\n",
    "\n",
    "    ### 이 메소드를 완성하시오.\n",
    "    def enqueue(self, data: Any) -> None:\n",
    "        node=Node(data)\n",
    "        if self.is_empty():\n",
    "            self.rear=node\n",
    "            self.front=node\n",
    "            self.no+=1\n",
    "        else:\n",
    "            self.rear.next=node\n",
    "            self.rear=self.rear.next\n",
    "            self.no+=1\n",
    "            \n",
    "        \"\"\"큐의 리어에 데이터를 삽입\"\"\"\n",
    "        pass\n",
    "        \n",
    "    def dequeue(self) -> Any:\n",
    "        \"\"\"큐에서 프런트에 있는 데이터를 꺼냄(삭제)\"\"\"\n",
    "        if not self.is_empty():  # 큐가 비어 있지 않으면\n",
    "            data = self.front.data\n",
    "            self.front = self.front.next\n",
    "            self.no -= 1\n",
    "            return data\n",
    "        else:\n",
    "            raise IndexError(\"Queue is empty.\")\n",
    "            \n",
    "    def print(self) -> None:\n",
    "        \"\"\"큐의 모든 데이터를 프런트에서부터 출력\"\"\"\n",
    "        ptr = self.front\n",
    "        print(\"Front: \", end='')\n",
    "        while ptr is not None:\n",
    "            print(ptr.data, end='')\n",
    "            if ptr.next is not None:\n",
    "                print('->', end='')\n",
    "            ptr = ptr.next\n",
    "        print(' :Rear')\n",
    "        \n",
    "# 아래는 수정하지 마시오.\n",
    "queue = LinkedListQueue()\n",
    "\n",
    "queue.enqueue(1)\n",
    "queue.enqueue(2)\n",
    "queue.enqueue(3)\n",
    "print(queue.dequeue())\n",
    "queue.enqueue(4)\n",
    "print(queue.dequeue())\n",
    "queue.enqueue(5)\n",
    "queue.print()\n",
    "print(len(queue))\n",
    "\n"
   ]
  },
  {
   "cell_type": "markdown",
   "metadata": {},
   "source": [
    "---\n",
    "### 문제7\n",
    "\n",
    "```\n",
    "재민이는 동아리 회식을 준비하기 위해서 장부를 관리하는 중이다.\n",
    "\n",
    "재현이는 재민이를 도와서 돈을 관리하는 중인데, 애석하게도 항상 정신없는 재현이는 돈을 실수로 잘못 부르는 사고를 치기 일쑤였다.\n",
    "\n",
    "재현이는 잘못된 수를 부를 때마다 0을 외쳐서, 가장 최근에 재민이가 쓴 수를 지우게 시킨다. (재현이는 지울수 있는 수가 없는 경우에는 0을 외치지 않는다.)\n",
    "\n",
    "재민이는 이렇게 모든 수를 받아 적은 후 그 수의 합을 알고 싶어 한다. 재민이를 도와주자!\n",
    "\n",
    "```\n",
    "\n",
    "***입력***\n",
    "```\n",
    "nums: \n",
    "    - 정수 리스트(0 이상의 정수 리스트)\n",
    "    - nums의 원소들은 재현이가 순서대로 외친 정수들이다.\n",
    "```\n",
    "\n",
    "\n",
    "***리턴***\n",
    "```\n",
    "재민이가 최종적으로 적어 낸 수의 합을 리턴한다.\n",
    "```\n",
    "\n",
    "***결과***\n",
    "```\n",
    "0\n",
    "3\n",
    "7\n",
    "```"
   ]
  },
  {
   "cell_type": "code",
   "execution_count": 1,
   "metadata": {
    "ExecuteTime": {
     "end_time": "2020-10-20T04:47:39.228481Z",
     "start_time": "2020-10-20T04:47:39.213522Z"
    },
    "scrolled": true
   },
   "outputs": [
    {
     "name": "stdout",
     "output_type": "stream",
     "text": [
      "0\n",
      "3\n",
      "7\n"
     ]
    }
   ],
   "source": [
    "from collections import deque\n",
    "def sum_money(nums):\n",
    "    \n",
    "    a=deque()\n",
    "    \n",
    "    for i in range(len(nums)):\n",
    "        if nums[i]!=0:\n",
    "            a.append(nums[i])\n",
    "            \n",
    "        else:\n",
    "            for ii in range(len(a)-1):\n",
    "                a.append(a.popleft())\n",
    "            a.popleft()   \n",
    "                \n",
    "    return sum(a)\n",
    "    pass\n",
    "\n",
    "# 아래는 수정하지 마시오.\n",
    "print(sum_money([3, 0, 4, 0]))\n",
    "print(sum_money([2, 1, 0, 1]))\n",
    "print(sum_money([1,3,5,4,0,0,7,0,0,6]))"
   ]
  },
  {
   "cell_type": "markdown",
   "metadata": {},
   "source": [
    "### 수고하셨습니다.\n",
    "제출후 모든 파일을 반드시 삭제하세요."
   ]
  }
 ],
 "metadata": {
  "kernelspec": {
   "display_name": "Python 3 (ipykernel)",
   "language": "python",
   "name": "python3"
  },
  "language_info": {
   "codemirror_mode": {
    "name": "ipython",
    "version": 3
   },
   "file_extension": ".py",
   "mimetype": "text/x-python",
   "name": "python",
   "nbconvert_exporter": "python",
   "pygments_lexer": "ipython3",
   "version": "3.10.10"
  },
  "toc": {
   "base_numbering": 1,
   "nav_menu": {},
   "number_sections": true,
   "sideBar": true,
   "skip_h1_title": false,
   "title_cell": "Table of Contents",
   "title_sidebar": "Contents",
   "toc_cell": false,
   "toc_position": {},
   "toc_section_display": true,
   "toc_window_display": false
  },
  "varInspector": {
   "cols": {
    "lenName": 16,
    "lenType": 16,
    "lenVar": 40
   },
   "kernels_config": {
    "python": {
     "delete_cmd_postfix": "",
     "delete_cmd_prefix": "del ",
     "library": "var_list.py",
     "varRefreshCmd": "print(var_dic_list())"
    },
    "r": {
     "delete_cmd_postfix": ") ",
     "delete_cmd_prefix": "rm(",
     "library": "var_list.r",
     "varRefreshCmd": "cat(var_dic_list()) "
    }
   },
   "types_to_exclude": [
    "module",
    "function",
    "builtin_function_or_method",
    "instance",
    "_Feature"
   ],
   "window_display": false
  }
 },
 "nbformat": 4,
 "nbformat_minor": 2
}
