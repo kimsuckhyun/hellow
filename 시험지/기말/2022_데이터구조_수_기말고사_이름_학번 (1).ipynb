{
 "cells": [
  {
   "cell_type": "markdown",
   "metadata": {},
   "source": [
    "# 아래 셀을 실행시키세요."
   ]
  },
  {
   "cell_type": "code",
   "execution_count": 18,
   "metadata": {
    "ExecuteTime": {
     "end_time": "2021-10-28T03:35:53.033891Z",
     "start_time": "2021-10-28T03:35:53.011949Z"
    }
   },
   "outputs": [
    {
     "data": {
      "text/html": [
       "<style>.container { width:100% !important; }</style>"
      ],
      "text/plain": [
       "<IPython.core.display.HTML object>"
      ]
     },
     "metadata": {},
     "output_type": "display_data"
    },
    {
     "data": {
      "text/html": [
       "<style>\n",
       "div.CodeMirror, div.CodeMirror pre, div.CodeMirror-code,\n",
       "div.output_area pre, div.output_wrapper pre,\n",
       ".text_cell_render, .text_cell_render *\n",
       "{ font-family: Consolas; font-size: 15pt; line-height: 140%;}\n",
       "</style>"
      ],
      "text/plain": [
       "<IPython.core.display.HTML object>"
      ]
     },
     "metadata": {},
     "output_type": "display_data"
    }
   ],
   "source": [
    "from IPython.display import display, HTML, Markdown\n",
    "display(HTML(\"<style>.container { width:100% !important; }</style>\"))\n",
    "display(HTML(\"\"\"<style>\n",
    "div.CodeMirror, div.CodeMirror pre, div.CodeMirror-code,\n",
    "div.output_area pre, div.output_wrapper pre,\n",
    ".text_cell_render, .text_cell_render *\n",
    "{ font-family: Consolas; font-size: 15pt; line-height: 140%;}\n",
    "</style>\"\"\"))"
   ]
  },
  {
   "cell_type": "markdown",
   "metadata": {},
   "source": [
    "# << 2022 데이터구조 (수) 기말고사  >>\n",
    "\n",
    "- 주의 사항\n",
    "    1. 시험시간 10:40 ~ 12:00\n",
    "    1. 부분점수는 없습니다.\n",
    "    1. 휴대폰의 전원을 끄세요.\n",
    "    1. 개인 전자기기를 사용할 수 없습니다.\n",
    "    1. closed book\n",
    "        1. 모든 인터넷을 사용할 수 없습니다.\n",
    "        1. 모든 자료를 볼 수 없습니다.\n",
    "    1. 수시로 저장하세요.\n",
    "    1. 셀을 실행시켰을 때, 멈추지 않는다면, 주피터노트북 메뉴에 있는 정지버튼을 누르거나 Kernel 메뉴에서 restart를 누르세요.\n",
    "        - 그래도 동작하지 않는 경우에는 주피터노트북을 다시 시작하세요.\n",
    "- 제출 방법\n",
    "    1. 단 한번만 제출 할 수 있습니다.\n",
    "        1. 다시 제출해야 할 경우 시험 감독에게 문의하세요.\n",
    "    1. `잘못된 파일을 제출했을 경우 기본 점수로 채점됩니다.`\n",
    "    1. 파일 이름에서 '학번'을 자신의 학번으로, '이름'을 자신의 이름으로 고치시오.\n",
    "    1. 캔버스에 주피터노트북 파일(.ipynb)을 제출하세요.\n",
    "        1. 캔버스 사용이 불가능한 경우에만, 아래 이메일로 제출 하세요.\n",
    "            - ydhwang@suwon.ac.kr\n",
    "            - 메일제목: `[데이터구조기말] 홍길동`\n",
    "    1. `제출후 모든 파일을 반드시 삭제하세요.`\n"
   ]
  },
  {
   "cell_type": "markdown",
   "metadata": {},
   "source": [
    "## 아래 두 셀을 실행시키시오."
   ]
  },
  {
   "cell_type": "code",
   "execution_count": 19,
   "metadata": {
    "ExecuteTime": {
     "end_time": "2021-10-28T03:37:07.343894Z",
     "start_time": "2021-10-28T03:37:07.333921Z"
    }
   },
   "outputs": [],
   "source": [
    "# 이 셀을 실행시키세요.\n",
    "from __future__ import annotations"
   ]
  },
  {
   "cell_type": "code",
   "execution_count": 20,
   "metadata": {
    "ExecuteTime": {
     "end_time": "2021-10-28T03:37:08.884799Z",
     "start_time": "2021-10-28T03:37:08.877840Z"
    }
   },
   "outputs": [
    {
     "name": "stdout",
     "output_type": "stream",
     "text": [
      "Time: 10:01:11\n",
      "IP address: 192.168.56.1\n"
     ]
    }
   ],
   "source": [
    "# 이 셀을 실행시키세요.\n",
    "from typing import Any, List, Tuple, Dict, Sequence\n",
    "from collections import deque\n",
    "from datetime import datetime\n",
    "import socket\n",
    "now = datetime.now()\n",
    "current_time = now.strftime(\"%H:%M:%S\")\n",
    "print(f\"Time: {current_time}\")\n",
    "print(f\"IP address: {socket.gethostbyname(socket.gethostname())}\")\n",
    "class Node:\n",
    "    pass"
   ]
  },
  {
   "cell_type": "markdown",
   "metadata": {
    "ExecuteTime": {
     "end_time": "2019-10-22T07:55:36.236793Z",
     "start_time": "2019-10-22T07:55:36.231780Z"
    }
   },
   "source": [
    "---\n",
    "# 주관식 문제\n",
    "\n",
    "- 문제당 6점"
   ]
  },
  {
   "cell_type": "markdown",
   "metadata": {},
   "source": [
    "---\n",
    "### 문제1\n",
    "\n",
    "이진탐색 알고리즘의 수행시간을 빅오표기법으로 표현하시오."
   ]
  },
  {
   "cell_type": "code",
   "execution_count": 21,
   "metadata": {
    "ExecuteTime": {
     "end_time": "2021-10-28T03:35:53.078769Z",
     "start_time": "2021-10-28T03:35:53.065805Z"
    }
   },
   "outputs": [
    {
     "name": "stdout",
     "output_type": "stream",
     "text": [
      "\n"
     ]
    }
   ],
   "source": [
    "print(\"\")"
   ]
  },
  {
   "attachments": {
    "image-2.png": {
     "image/png": "[encoded data removed]"
    }
   },
   "cell_type": "markdown",
   "metadata": {},
   "source": [
    "---\n",
    "### 문제2\n",
    "아래 트리에서 노드 F의 높이는 얼마인가?\n",
    "![image-2.png](attachment:image-2.png)"
   ]
  },
  {
   "cell_type": "code",
   "execution_count": 22,
   "metadata": {
    "ExecuteTime": {
     "end_time": "2021-10-28T03:35:53.093748Z",
     "start_time": "2021-10-28T03:35:53.080764Z"
    },
    "scrolled": true
   },
   "outputs": [
    {
     "name": "stdout",
     "output_type": "stream",
     "text": [
      "\n"
     ]
    }
   ],
   "source": [
    "print(\"\")"
   ]
  },
  {
   "attachments": {
    "image.png": {
     "image/png": "[encoded data removed]"
    }
   },
   "cell_type": "markdown",
   "metadata": {},
   "source": [
    "---\n",
    "### 문제3\n",
    "\n",
    "아래 이진트리를 후위순회 한 결과를 쓰시오.\n",
    "![image.png](attachment:image.png)"
   ]
  },
  {
   "cell_type": "code",
   "execution_count": 23,
   "metadata": {
    "ExecuteTime": {
     "end_time": "2021-10-28T03:35:53.108690Z",
     "start_time": "2021-10-28T03:35:53.094727Z"
    },
    "scrolled": false
   },
   "outputs": [
    {
     "name": "stdout",
     "output_type": "stream",
     "text": [
      "\n"
     ]
    }
   ],
   "source": [
    "print(\"\")"
   ]
  },
  {
   "attachments": {
    "image.png": {
     "image/png": "[encoded data removed]"
    }
   },
   "cell_type": "markdown",
   "metadata": {},
   "source": [
    "---\n",
    "### 문제4\n",
    "\n",
    "아래 코드는 어떤 정렬알고리즘을 구현한 것이다. 이 정렬 알고리즘의 이름은 무엇인가?\n",
    "![image.png](attachment:image.png)\n"
   ]
  },
  {
   "cell_type": "code",
   "execution_count": 24,
   "metadata": {
    "ExecuteTime": {
     "end_time": "2021-10-28T03:35:53.123650Z",
     "start_time": "2021-10-28T03:35:53.109687Z"
    }
   },
   "outputs": [
    {
     "name": "stdout",
     "output_type": "stream",
     "text": [
      "\n"
     ]
    }
   ],
   "source": [
    "print(\"\")"
   ]
  },
  {
   "cell_type": "markdown",
   "metadata": {},
   "source": [
    "---\n",
    "### 문제5\n",
    "\n",
    "그래프나 트리를 탐색할 때, 경우의 수를 줄이기 위해 사용하는 방법을 무엇이라고 하는가? 이 방법은 특정 노드가 유망하지 않으면 그 쪽으로 탐색하지 않고, 부모 노드로 되돌아 간다.\n"
   ]
  },
  {
   "cell_type": "code",
   "execution_count": 25,
   "metadata": {
    "ExecuteTime": {
     "end_time": "2021-10-28T03:39:06.694946Z",
     "start_time": "2021-10-28T03:39:06.679986Z"
    },
    "scrolled": true
   },
   "outputs": [
    {
     "name": "stdout",
     "output_type": "stream",
     "text": [
      "\n"
     ]
    }
   ],
   "source": [
    "print(\"\")"
   ]
  },
  {
   "cell_type": "markdown",
   "metadata": {},
   "source": [
    "----\n",
    "# O,X 문제\n",
    "1. 맞으면 `O`, 틀리면 `X`를 `print()`를 이용하여 출력하시오.\n",
    "1. 배점: 문제를 맞추면 6점, 비워두면 3점, 틀리면 0점"
   ]
  },
  {
   "cell_type": "markdown",
   "metadata": {},
   "source": [
    "---\n",
    "### 문제1\n",
    "\n",
    "해시함수는 해시테이블의 인덱스 값을 키값으로 변환시켜주는 함수이다.\n"
   ]
  },
  {
   "cell_type": "code",
   "execution_count": 26,
   "metadata": {
    "ExecuteTime": {
     "end_time": "2021-10-28T03:35:53.153598Z",
     "start_time": "2021-10-28T03:35:53.139608Z"
    },
    "scrolled": true
   },
   "outputs": [
    {
     "name": "stdout",
     "output_type": "stream",
     "text": [
      "\n"
     ]
    }
   ],
   "source": [
    "print(\"\")"
   ]
  },
  {
   "cell_type": "markdown",
   "metadata": {},
   "source": [
    "---\n",
    "### 문제2\n",
    "\n",
    "높이가 h인 완전이진트리가 가질 수 있는 최소노드수는 $2^h$ 이다."
   ]
  },
  {
   "cell_type": "code",
   "execution_count": 27,
   "metadata": {
    "ExecuteTime": {
     "end_time": "2021-10-28T03:35:53.168529Z",
     "start_time": "2021-10-28T03:35:53.154568Z"
    }
   },
   "outputs": [
    {
     "name": "stdout",
     "output_type": "stream",
     "text": [
      "\n"
     ]
    }
   ],
   "source": [
    "print(\"\")"
   ]
  },
  {
   "cell_type": "markdown",
   "metadata": {},
   "source": [
    "---\n",
    "### 문제3\n",
    "\n",
    "이진탐색트리에서 키값이 가장 큰 노드는 왼쪽 자식을 가질 수 있다.\n"
   ]
  },
  {
   "cell_type": "code",
   "execution_count": 28,
   "metadata": {
    "ExecuteTime": {
     "end_time": "2021-10-28T03:35:53.183490Z",
     "start_time": "2021-10-28T03:35:53.169527Z"
    }
   },
   "outputs": [
    {
     "name": "stdout",
     "output_type": "stream",
     "text": [
      "\n"
     ]
    }
   ],
   "source": [
    "print(\"\")"
   ]
  },
  {
   "cell_type": "markdown",
   "metadata": {},
   "source": [
    "---\n",
    "### 문제4\n",
    "\n",
    "합병정렬에서 합병 함수(merge())의 시간복잡도는 O(logN) 이다."
   ]
  },
  {
   "cell_type": "code",
   "execution_count": 29,
   "metadata": {
    "ExecuteTime": {
     "end_time": "2021-10-28T03:35:53.198450Z",
     "start_time": "2021-10-28T03:35:53.184488Z"
    },
    "scrolled": true
   },
   "outputs": [
    {
     "name": "stdout",
     "output_type": "stream",
     "text": [
      "\n"
     ]
    }
   ],
   "source": [
    "print(\"\")"
   ]
  },
  {
   "attachments": {
    "image.png": {
     "image/png": "[encoded data removed]"
    }
   },
   "cell_type": "markdown",
   "metadata": {},
   "source": [
    "---\n",
    "### 문제5\n",
    "\n",
    "아래 그래프에서 노드 i의 모든 인접노드들은 `[f, h, j]` 이다.\n",
    "\n",
    "![image.png](attachment:image.png)\n",
    "\n"
   ]
  },
  {
   "cell_type": "code",
   "execution_count": 30,
   "metadata": {
    "ExecuteTime": {
     "end_time": "2021-10-28T03:35:53.213929Z",
     "start_time": "2021-10-28T03:35:53.199448Z"
    },
    "scrolled": true
   },
   "outputs": [
    {
     "name": "stdout",
     "output_type": "stream",
     "text": [
      "\n"
     ]
    }
   ],
   "source": [
    "print(\"\")"
   ]
  },
  {
   "cell_type": "markdown",
   "metadata": {},
   "source": [
    "---\n",
    "\n",
    "# 코딩 문제\n",
    "\n",
    "- 문제당 13점\n"
   ]
  },
  {
   "cell_type": "markdown",
   "metadata": {},
   "source": [
    "---\n",
    "### 문제1\n",
    "\n",
    "이진탐색 기법을 이용하여 이진탐색 함수 binary_search_recursive2() 를 완성하시오.\n",
    "\n",
    "- 파라미터:\n",
    "    - seq: 데이터들이 들어 있는 시퀀스\n",
    "    - target: 찾고 싶은 값\n",
    "    - left: 탐색 해야 하는 시작 인덱스\n",
    "    - right: 탐색 해야 하는 마지막 인덱스 \n",
    "- 리턴: 탐색에 성공한 경우는 해당 인덱스를 리턴하고 실패한 경우에는 -1을 리턴\n",
    "\n",
    "***결과***\n",
    "```\n",
    "1\n",
    "4\n",
    "8\n",
    "```"
   ]
  },
  {
   "cell_type": "code",
   "execution_count": 31,
   "metadata": {
    "ExecuteTime": {
     "end_time": "2021-10-28T03:35:53.228971Z",
     "start_time": "2021-10-28T03:35:53.214858Z"
    }
   },
   "outputs": [
    {
     "name": "stdout",
     "output_type": "stream",
     "text": [
      "None\n",
      "None\n",
      "None\n"
     ]
    }
   ],
   "source": [
    "from typing import Any, List, Tuple, Dict, Sequence\n",
    "def binary_search_recursive2(seq: Sequence, target: Any, left: int, right: int) -> int:\n",
    "    pass\n",
    "    \n",
    "nums = [1, 2, 3, 4, 5, 6, 8, 10, 12, 15]\n",
    "print(binary_search_recursive2(nums, 2, 0, len(nums)-1))\n",
    "print(binary_search_recursive2(nums, 5, 0, len(nums)-1))\n",
    "print(binary_search_recursive2(nums, 12, 0, len(nums)-1))"
   ]
  },
  {
   "cell_type": "markdown",
   "metadata": {},
   "source": [
    "---\n",
    "## 문제2\n",
    "\n",
    "친구로부터 노트북을 중고로 산 스브러스는 노트북을 켜자마자 경악할 수밖에 없었다. 바탕화면에 온갖 파일들이 정리도 안 된 채 가득했기 때문이다. 그리고 화면의 구석에서 친구의 메시지를 확인할 수 있었다.\n",
    "\n",
    "\n",
    ">바탕화면의 파일들에는 값진 보물에 대한 정보가 들어 있어. 하나라도 지우게 된다면 보물은 물론이고 다시는 노트북을 쓸 수 없게 될 거야. 파일들을 잘 분석해서 보물의 주인공이 될 수 있길 바랄게. 힌트는 “확장자”야.\n",
    "\n",
    "\n",
    "화가 났던 스브러스는 보물 이야기에 금세 화가 풀렸고 보물의 정보를 알아내려고 애썼다. 하지만 파일이 너무 많은 탓에 이내 포기했고 보물의 절반을 보상으로 파일의 정리를 요청해왔다. 스브러스의 요청은 다음과 같다.\n",
    "\n",
    "1. 파일을 확장자 별로 정리해서 몇 개씩 있는지 알려줘.\n",
    "1. 보기 편하게 확장자들을 사전 순으로 정렬해 줘.\n",
    "\n",
    "\n",
    "그럼 보물의 절반을 얻어내기 위해 얼른 스브러스의 노트북 파일 정리를 해줄 프로그램을 만들자!\n",
    "\n",
    "\n",
    "파일의 이름은 알파벳 소문자와 점(.)으로만 구성되어 있다. 점은 정확히 한 번 등장하며, 파일 이름의 첫 글자 또는 마지막 글자로 오지 않는다. \n",
    "\n",
    "\n",
    "- 파라미터:\n",
    "    - files: 파일 이름들이 들어 있는 리스트\n",
    "- 리턴:\n",
    "    - 확장자의 이름과 그 확장자 파일의 개수를 튜플형태로 가지는 리스트. 확장자가 여러 개 있는 경우 확장자 개수를 기준으로 정렬한다.\n",
    "    \n",
    "***결과***\n",
    "```\n",
    "[('world', 1), ('spc', 2), ('icpc', 2), ('txt', 3)]\n",
    "```"
   ]
  },
  {
   "cell_type": "code",
   "execution_count": 32,
   "metadata": {
    "ExecuteTime": {
     "end_time": "2021-10-28T03:35:53.243904Z",
     "start_time": "2021-10-28T03:35:53.230938Z"
    }
   },
   "outputs": [
    {
     "name": "stdout",
     "output_type": "stream",
     "text": [
      "None\n"
     ]
    }
   ],
   "source": [
    "from typing import Any, List, Tuple, Dict, Sequence\n",
    "def extention_count(files: List[str]) -> List[Tuple[str, int]]:\n",
    "    pass\n",
    "\n",
    "print(extention_count([\"sbrus.txt\",\"spc.spc\",\"acm.icpc\",\"korea.icpc\",\n",
    "                       \"sample.txt\",\"hello.world\",\"sogang.spc\",\"example.txt\"]))"
   ]
  },
  {
   "cell_type": "markdown",
   "metadata": {},
   "source": [
    "---\n",
    "### 문제3\n",
    "\n",
    "배열을 이용하여 완전이진트리를 구현 했을 때, index에 위치한 노드의 차수를 구하는 get_degree() 함수를 작성하시오.\n",
    "\n",
    "- 파라미터:\n",
    "    - complete_binary_tree: 완전이진트리의 배열로 구현한 리스트\n",
    "    - index: 노드의 인덱스\n",
    "- 리턴:\n",
    "    - index에 위치한 노드의 차수를 리턴\n",
    "    - 만약 index의 위치에 노드가 없는 경우 -1 리턴\n",
    "\n",
    "***결과***\n",
    "```\n",
    "2\n",
    "1\n",
    "0\n",
    "\n",
    "2\n",
    "1\n",
    "0\n",
    "-1\n",
    "```"
   ]
  },
  {
   "cell_type": "code",
   "execution_count": 33,
   "metadata": {
    "ExecuteTime": {
     "end_time": "2021-10-28T03:45:12.064693Z",
     "start_time": "2021-10-28T03:45:12.051756Z"
    },
    "scrolled": true
   },
   "outputs": [
    {
     "name": "stdout",
     "output_type": "stream",
     "text": [
      "None\n",
      "None\n",
      "None\n",
      "\n",
      "None\n",
      "None\n",
      "None\n",
      "None\n"
     ]
    }
   ],
   "source": [
    "from typing import Any, List, Tuple, Dict, Sequence\n",
    "def get_degree(complete_binary_tree, index):\n",
    "    pass\n",
    "\n",
    "# 아래는 수정하지 마시오.\n",
    "cbt = [None, 'A', 'B', 'C', 'D']\n",
    "print(get_degree(cbt, index=1))\n",
    "print(get_degree(cbt, index=2)) \n",
    "print(get_degree(cbt, index=4)) \n",
    "print()\n",
    "cbt = [None, 'A', 'B', 'C', 'D', 'E', 'F', 'G', 'H', 'I', 'J']\n",
    "print(get_degree(cbt, index=1))\n",
    "print(get_degree(cbt, index=5)) \n",
    "print(get_degree(cbt, index=6)) \n",
    "print(get_degree(cbt, index=11)) \n"
   ]
  },
  {
   "cell_type": "markdown",
   "metadata": {},
   "source": [
    "---\n",
    "### 문제4\n",
    "\n",
    "이진탐색트리 클래스에서 서브트리에서 노드를 삭제하는 delete_in_subtree() 함수를 작성하시오.\n",
    "\n",
    "- 파라미터:\n",
    "    - key: 삭제할 노드의 키값\n",
    "    - sroot: 서브트리의 루트노드\n",
    "- 리턴: key값을 가지는 노드가 삭제된 서브트리의 루트노드\n",
    "\n",
    "***결과***\n",
    "```\n",
    "원본\n",
    "|           ┌──── 11\n",
    "|     ┌──── 10\n",
    "└──── 9\n",
    "      |           ┌──── 8\n",
    "      |     ┌──── 7\n",
    "      |     |     └──── 6\n",
    "      └──── 5\n",
    "            |     ┌──── 4\n",
    "            |     |     └──── 3\n",
    "            └──── 2\n",
    "                  └──── 1\n",
    "\n",
    "노드 5 삭제 후\n",
    "|           ┌──── 11\n",
    "|     ┌──── 10\n",
    "└──── 9\n",
    "      |           ┌──── 8\n",
    "      |     ┌──── 7\n",
    "      |     |     └──── 6\n",
    "      └──── 4\n",
    "            |     ┌──── 3\n",
    "            └──── 2\n",
    "                  └──── 1\n",
    "\n",
    "노드 9 삭제 후\n",
    "|           ┌──── 11\n",
    "|     ┌──── 10\n",
    "└──── 8\n",
    "      |     ┌──── 7\n",
    "      |     |     └──── 6\n",
    "      └──── 4\n",
    "            |     ┌──── 3\n",
    "            └──── 2\n",
    "                  └──── 1\n",
    "```"
   ]
  },
  {
   "cell_type": "code",
   "execution_count": 34,
   "metadata": {
    "ExecuteTime": {
     "end_time": "2021-10-28T03:45:36.958176Z",
     "start_time": "2021-10-28T03:45:36.942251Z"
    },
    "scrolled": false
   },
   "outputs": [
    {
     "name": "stdout",
     "output_type": "stream",
     "text": [
      "원본\n",
      "|           ┌──── 11\n",
      "|     ┌──── 10\n",
      "└──── 9\n",
      "      |           ┌──── 8\n",
      "      |     ┌──── 7\n",
      "      |     |     └──── 6\n",
      "      └──── 5\n",
      "            |     ┌──── 4\n",
      "            |     |     └──── 3\n",
      "            └──── 2\n",
      "                  └──── 1\n",
      "\n",
      "노드 5 삭제 후\n",
      "|           ┌──── 11\n",
      "|     ┌──── 10\n",
      "└──── 9\n",
      "      |           ┌──── 8\n",
      "      |     ┌──── 7\n",
      "      |     |     └──── 6\n",
      "      └──── 5\n",
      "            |     ┌──── 4\n",
      "            |     |     └──── 3\n",
      "            └──── 2\n",
      "                  └──── 1\n",
      "\n",
      "노드 9 삭제 후\n",
      "|           ┌──── 11\n",
      "|     ┌──── 10\n",
      "└──── 9\n",
      "      |           ┌──── 8\n",
      "      |     ┌──── 7\n",
      "      |     |     └──── 6\n",
      "      └──── 5\n",
      "            |     ┌──── 4\n",
      "            |     |     └──── 3\n",
      "            └──── 2\n",
      "                  └──── 1\n",
      "\n"
     ]
    }
   ],
   "source": [
    "from __future__ import annotations\n",
    "from typing import Any\n",
    "from collections import deque\n",
    "\n",
    "class Node:\n",
    "    def __init__(self, key: int, value: Any):\n",
    "        self.key = key # 키\n",
    "        self.value = value # 값\n",
    "        self.left = None # 왼쪽자식\n",
    "        self.right = None # 오른쪽자식\n",
    "\n",
    "\n",
    "class BinarySearchTree:\n",
    "    def __init__(self):\n",
    "        self.root = None\n",
    "\n",
    "    def insert(self, key: int, value: Any) -> None:\n",
    "        \"\"\"전체트리에 노드 삽입\"\"\"\n",
    "        if self.root: # 루트노드가 있다면\n",
    "            self.insert_to_subtree(key, value, self.root)\n",
    "        else: # 루트노드가 없다면\n",
    "            self.root = Node(key, value)\n",
    "\n",
    "    def insert_to_subtree(self, key: int, value: Any, sroot: Node) -> None:\n",
    "        \"\"\"서브트리에 노드 삽입\"\"\"\n",
    "        if key < sroot.key:\n",
    "            if sroot.left:\n",
    "                self.insert_to_subtree(key, value, sroot.left)\n",
    "            else: \n",
    "                sroot.left = Node(key, value)\n",
    "        elif key > sroot.key:\n",
    "            if sroot.right: \n",
    "                self.insert_to_subtree(key, value, sroot.right)\n",
    "            else:\n",
    "                sroot.right = Node(key, value)\n",
    "        \n",
    "    def min_node(self, sroot: Node):\n",
    "        \"\"\"서브트리에서 최소키값을 가지는 노드 리턴\"\"\"\n",
    "        if not sroot:\n",
    "            return None\n",
    "        else:\n",
    "            if sroot.left:\n",
    "                return self.min_node(sroot.left)\n",
    "            else:\n",
    "                return sroot\n",
    "    \n",
    "    def max_node(self, sroot: Node):\n",
    "        \"\"\"서브트리에서 최대키값을 가지는 노드 리턴\"\"\"\n",
    "        if not sroot:\n",
    "            return None\n",
    "        else:\n",
    "            if sroot.right:\n",
    "                return self.max_node(sroot.right)\n",
    "            else:\n",
    "                return sroot\n",
    "\n",
    "    def delete(self, key: int) -> None:\n",
    "        \"\"\"전체트리에서 노드 삭제\"\"\"\n",
    "        self.root = self.delete_in_subtree(key, self.root)\n",
    "    \n",
    "    # 이 메소드를 수정하시오.\n",
    "    def delete_in_subtree(self, key: int, sroot: Node) -> Node:\n",
    "        \"\"\"서브트리에서 노드 삭제\"\"\"\n",
    "        if not sroot:\n",
    "            return None\n",
    "\n",
    "        if key < sroot.key: \n",
    "            sroot.left = self.delete_in_subtree(key, sroot.left)\n",
    "        elif key > sroot.key:\n",
    "            sroot.right = self.delete_in_subtree(key, sroot.right)\n",
    "        else:\n",
    "            pass\n",
    "        return sroot \n",
    "    \n",
    "    def print_tree(self, sroot: Node, prefix=\"\", is_left=True):\n",
    "        \"\"\"트리출력\"\"\"\n",
    "        if not sroot:\n",
    "            return\n",
    "        if sroot.right: # n의 오른쪽 자식이 있으면\n",
    "            indent = \"|     \" if is_left else \"      \"\n",
    "            self.print_tree(sroot.right, prefix+indent, False)\n",
    "        print(prefix, \"└──── \" if is_left else \"┌──── \", sroot.key, sep=\"\") # n 노드의 키값 출력\n",
    "        if sroot.left: # i의 왼쪽 자식이 있으면\n",
    "            indent = \"      \" if is_left else \"|     \"\n",
    "            self.print_tree(sroot.left, prefix+indent, True)\n",
    "\n",
    "# 아래는 수정하지 마시오.\n",
    "arr = [(9, 'I'), (5, 'E'), (10, 'J'), (2, 'B'), (7, 'G'), (11, 'K'), (1, 'A'), (4, 'D'), (6, 'F'), (8, 'H'), (3, 'C')]\n",
    "bst = BinarySearchTree()\n",
    "for i in arr:\n",
    "    bst.insert(i[0], i[1])\n",
    "\n",
    "print(\"원본\")\n",
    "bst.print_tree(bst.root)\n",
    "print()\n",
    "\n",
    "print(\"노드 5 삭제 후\")\n",
    "bst.delete(5)\n",
    "bst.print_tree(bst.root)\n",
    "print()\n",
    "\n",
    "print(\"노드 9 삭제 후\")\n",
    "bst.delete(9)\n",
    "bst.print_tree(bst.root)\n",
    "print()"
   ]
  },
  {
   "cell_type": "markdown",
   "metadata": {},
   "source": [
    "---\n",
    "### 문제5\n",
    "\n",
    "BinarySearchTree 클래스에서 서브트리에 있는 모든 노드의 키들의 합을 리턴하는 sum_keys 메소드를 구현하시오.\n",
    "\n",
    "- 파라미터:\n",
    "    - sroot: 서브트리의 루트노드\n",
    "- 리턴: 서브트리에 있는 모든 노드들의 키들의 합\n",
    "\n",
    "***결과***\n",
    "```\n",
    "66\n",
    "10\n",
    "21\n",
    "```"
   ]
  },
  {
   "cell_type": "code",
   "execution_count": 35,
   "metadata": {
    "ExecuteTime": {
     "end_time": "2021-10-28T03:47:52.107537Z",
     "start_time": "2021-10-28T03:47:52.094544Z"
    }
   },
   "outputs": [
    {
     "name": "stdout",
     "output_type": "stream",
     "text": [
      "|           ┌──── 11\n",
      "|     ┌──── 10\n",
      "└──── 9\n",
      "      |           ┌──── 8\n",
      "      |     ┌──── 7\n",
      "      |     |     └──── 6\n",
      "      └──── 5\n",
      "            |     ┌──── 4\n",
      "            |     |     └──── 3\n",
      "            └──── 2\n",
      "                  └──── 1\n",
      "None\n",
      "None\n",
      "None\n"
     ]
    }
   ],
   "source": [
    "from __future__ import annotations\n",
    "from typing import Any\n",
    "from collections import deque\n",
    "\n",
    "class Node:\n",
    "    def __init__(self, key: int, value: Any):\n",
    "        self.key = key # 키\n",
    "        self.value = value # 값\n",
    "        self.left = None # 왼쪽자식\n",
    "        self.right = None # 오른쪽자식\n",
    "\n",
    "class BinarySearchTree:\n",
    "    def __init__(self):\n",
    "        self.root = None\n",
    "\n",
    "    def insert(self, key: int, value: Any):\n",
    "        \"\"\"전체트리에 노드 삽입\"\"\"\n",
    "        if self.root: \n",
    "            self.insert_to_subtree(key, value, self.root)\n",
    "        else: \n",
    "            self.root = Node(key, value)\n",
    "\n",
    "    def insert_to_subtree(self, key: int, value: Any, sroot: Node):\n",
    "        \"\"\"서브트리에 노드 삽입\"\"\"\n",
    "        if key < sroot.key: \n",
    "            if sroot.left:\n",
    "                self.insert_to_subtree(key, value, sroot.left)\n",
    "            else: \n",
    "                sroot.left = Node(key, value)\n",
    "        elif key > sroot.key: \n",
    "            if sroot.right: \n",
    "                self.insert_to_subtree(key, value, sroot.right)\n",
    "            else:\n",
    "                sroot.right = Node(key, value)\n",
    "    \n",
    "    def print_tree(self, sroot: Node, prefix=\"\", is_left=True):\n",
    "        \"\"\"트리출력\"\"\"\n",
    "        if not sroot:\n",
    "            return\n",
    "        if sroot.right: # n의 오른쪽 자식이 있으면\n",
    "            indent = \"|     \" if is_left else \"      \"\n",
    "            self.print_tree(sroot.right, prefix+indent, False)\n",
    "        print(prefix, \"└──── \" if is_left else \"┌──── \", sroot.key, sep=\"\") # n 노드의 키값 출력\n",
    "        if sroot.left: # i의 왼쪽 자식이 있으면\n",
    "            indent = \"      \" if is_left else \"|     \"\n",
    "            self.print_tree(sroot.left, prefix+indent, True)\n",
    "    \n",
    "    # 이 메소드를 수정하시오.\n",
    "    def sum_keys(self, sroot: Node) -> int:\n",
    "        \"\"\"서브트리에 있는 모든 노드들의 키의 합을 리턴\"\"\"\n",
    "        pass\n",
    "\n",
    "# 아래는 수정하지 마시오.\n",
    "arr = [(9, 'I'), (5, 'E'), (10, 'J'), (2, 'B'), (7, 'G'), (11, 'K'), (1, 'A'), (4, 'D'), (6, 'F'), (8, 'H'), (3, 'C')]\n",
    "bst = BinarySearchTree()\n",
    "for i in arr:\n",
    "    bst.insert(i[0], i[1])\n",
    "    \n",
    "bst.print_tree(bst.root)\n",
    "print(bst.sum_keys(bst.root)) \n",
    "print(bst.sum_keys(bst.root.left.left)) \n",
    "print(bst.sum_keys(bst.root.right)) \n",
    "    \n"
   ]
  },
  {
   "cell_type": "markdown",
   "metadata": {},
   "source": [
    "---\n",
    "### 문제6\n",
    "\n",
    "투포인터 방식을 이용하여 퀵정렬 함수 quick_sort() 를 완성하시오.\n",
    "- 파라미터:\n",
    "    - seq: 정렬해야 하는 리스트\n",
    "- 리턴: 없음\n",
    "\n",
    "***결과***\n",
    "```\n",
    "[1, 1, 2, 2, 3, 3, 4, 4, 5, 5, 6, 7, 7, 8, 9]\n",
    "```"
   ]
  },
  {
   "cell_type": "code",
   "execution_count": 1,
   "metadata": {
    "ExecuteTime": {
     "end_time": "2021-10-28T03:48:25.348671Z",
     "start_time": "2021-10-28T03:48:25.334710Z"
    }
   },
   "outputs": [
    {
     "ename": "TypeError",
     "evalue": "unsupported operand type(s) for -: 'NoneType' and 'int'",
     "output_type": "error",
     "traceback": [
      "\u001b[1;31m---------------------------------------------------------------------------\u001b[0m",
      "\u001b[1;31mTypeError\u001b[0m                                 Traceback (most recent call last)",
      "\u001b[1;32m<ipython-input-1-75e4d6b813f5>\u001b[0m in \u001b[0;36m<module>\u001b[1;34m\u001b[0m\n\u001b[0;32m     18\u001b[0m \u001b[1;31m# 아래는 수정하지 마시오.\u001b[0m\u001b[1;33m\u001b[0m\u001b[1;33m\u001b[0m\u001b[1;33m\u001b[0m\u001b[0m\n\u001b[0;32m     19\u001b[0m \u001b[0marr\u001b[0m \u001b[1;33m=\u001b[0m \u001b[1;33m[\u001b[0m\u001b[1;36m2\u001b[0m\u001b[1;33m,\u001b[0m\u001b[1;36m1\u001b[0m\u001b[1;33m,\u001b[0m\u001b[1;36m3\u001b[0m\u001b[1;33m,\u001b[0m\u001b[1;36m4\u001b[0m\u001b[1;33m,\u001b[0m\u001b[1;36m8\u001b[0m\u001b[1;33m,\u001b[0m\u001b[1;36m5\u001b[0m\u001b[1;33m,\u001b[0m\u001b[1;36m7\u001b[0m\u001b[1;33m,\u001b[0m\u001b[1;36m2\u001b[0m\u001b[1;33m,\u001b[0m\u001b[1;36m1\u001b[0m\u001b[1;33m,\u001b[0m\u001b[1;36m6\u001b[0m\u001b[1;33m,\u001b[0m\u001b[1;36m9\u001b[0m\u001b[1;33m,\u001b[0m\u001b[1;36m3\u001b[0m\u001b[1;33m,\u001b[0m\u001b[1;36m4\u001b[0m\u001b[1;33m,\u001b[0m\u001b[1;36m5\u001b[0m\u001b[1;33m,\u001b[0m\u001b[1;36m7\u001b[0m\u001b[1;33m]\u001b[0m\u001b[1;33m\u001b[0m\u001b[1;33m\u001b[0m\u001b[0m\n\u001b[1;32m---> 20\u001b[1;33m \u001b[0mquick_sort\u001b[0m\u001b[1;33m(\u001b[0m\u001b[0marr\u001b[0m\u001b[1;33m)\u001b[0m\u001b[1;33m\u001b[0m\u001b[1;33m\u001b[0m\u001b[0m\n\u001b[0m\u001b[0;32m     21\u001b[0m \u001b[0mprint\u001b[0m\u001b[1;33m(\u001b[0m\u001b[0marr\u001b[0m\u001b[1;33m)\u001b[0m\u001b[1;33m\u001b[0m\u001b[1;33m\u001b[0m\u001b[0m\n",
      "\u001b[1;32m<ipython-input-1-75e4d6b813f5>\u001b[0m in \u001b[0;36mquick_sort\u001b[1;34m(seq)\u001b[0m\n\u001b[0;32m     14\u001b[0m             \u001b[0msort\u001b[0m\u001b[1;33m(\u001b[0m\u001b[0mpivot\u001b[0m \u001b[1;33m+\u001b[0m \u001b[1;36m1\u001b[0m\u001b[1;33m,\u001b[0m \u001b[0mend\u001b[0m\u001b[1;33m)\u001b[0m\u001b[1;33m\u001b[0m\u001b[1;33m\u001b[0m\u001b[0m\n\u001b[0;32m     15\u001b[0m \u001b[1;33m\u001b[0m\u001b[0m\n\u001b[1;32m---> 16\u001b[1;33m     \u001b[0msort\u001b[0m\u001b[1;33m(\u001b[0m\u001b[1;36m0\u001b[0m\u001b[1;33m,\u001b[0m \u001b[0mlen\u001b[0m\u001b[1;33m(\u001b[0m\u001b[0mseq\u001b[0m\u001b[1;33m)\u001b[0m \u001b[1;33m-\u001b[0m \u001b[1;36m1\u001b[0m\u001b[1;33m)\u001b[0m \u001b[1;31m# 정렬 수행\u001b[0m\u001b[1;33m\u001b[0m\u001b[1;33m\u001b[0m\u001b[0m\n\u001b[0m\u001b[0;32m     17\u001b[0m \u001b[1;33m\u001b[0m\u001b[0m\n\u001b[0;32m     18\u001b[0m \u001b[1;31m# 아래는 수정하지 마시오.\u001b[0m\u001b[1;33m\u001b[0m\u001b[1;33m\u001b[0m\u001b[1;33m\u001b[0m\u001b[0m\n",
      "\u001b[1;32m<ipython-input-1-75e4d6b813f5>\u001b[0m in \u001b[0;36msort\u001b[1;34m(start, end)\u001b[0m\n\u001b[0;32m     11\u001b[0m         \u001b[1;32mif\u001b[0m \u001b[0mstart\u001b[0m \u001b[1;33m<\u001b[0m \u001b[0mend\u001b[0m\u001b[1;33m:\u001b[0m\u001b[1;33m\u001b[0m\u001b[1;33m\u001b[0m\u001b[0m\n\u001b[0;32m     12\u001b[0m             \u001b[0mpivot\u001b[0m \u001b[1;33m=\u001b[0m \u001b[0mpartition\u001b[0m\u001b[1;33m(\u001b[0m\u001b[0mstart\u001b[0m\u001b[1;33m,\u001b[0m \u001b[0mend\u001b[0m\u001b[1;33m)\u001b[0m\u001b[1;33m\u001b[0m\u001b[1;33m\u001b[0m\u001b[0m\n\u001b[1;32m---> 13\u001b[1;33m             \u001b[0msort\u001b[0m\u001b[1;33m(\u001b[0m\u001b[0mstart\u001b[0m\u001b[1;33m,\u001b[0m \u001b[0mpivot\u001b[0m \u001b[1;33m-\u001b[0m \u001b[1;36m1\u001b[0m\u001b[1;33m)\u001b[0m\u001b[1;33m\u001b[0m\u001b[1;33m\u001b[0m\u001b[0m\n\u001b[0m\u001b[0;32m     14\u001b[0m             \u001b[0msort\u001b[0m\u001b[1;33m(\u001b[0m\u001b[0mpivot\u001b[0m \u001b[1;33m+\u001b[0m \u001b[1;36m1\u001b[0m\u001b[1;33m,\u001b[0m \u001b[0mend\u001b[0m\u001b[1;33m)\u001b[0m\u001b[1;33m\u001b[0m\u001b[1;33m\u001b[0m\u001b[0m\n\u001b[0;32m     15\u001b[0m \u001b[1;33m\u001b[0m\u001b[0m\n",
      "\u001b[1;31mTypeError\u001b[0m: unsupported operand type(s) for -: 'NoneType' and 'int'"
     ]
    }
   ],
   "source": [
    "def quick_sort(seq: list) -> None:\n",
    "    \"\"\"퀵 정렬\"\"\"\n",
    "    def partition(start: int, end: int) -> int:\n",
    "        \"\"\"피벗의 인덱스 리턴\"\"\"\n",
    "        i = start + 1\n",
    "        j = end\n",
    "        pivot = start\n",
    "        pass\n",
    "    \n",
    "    def sort(start: int, end: int) -> None:\n",
    "        if start < end:\n",
    "            pivot = partition(start, end)\n",
    "            sort(start, pivot - 1)\n",
    "            sort(pivot + 1, end)\n",
    "\n",
    "    sort(0, len(seq) - 1) # 정렬 수행\n",
    "\n",
    "# 아래는 수정하지 마시오.\n",
    "arr = [2,1,3,4,8,5,7,2,1,6,9,3,4,5,7]\n",
    "quick_sort(arr)\n",
    "print(arr)"
   ]
  },
  {
   "attachments": {
    "image.png": {
     "image/png": "[encoded data removed]"
    }
   },
   "cell_type": "markdown",
   "metadata": {},
   "source": [
    "---\n",
    "### 문제7\n",
    "\n",
    "무방향 그래프가 인접리스트 형태로 주어졌을 때, 주어진 그래프에서 연결요소의 개수를 리턴하는 connected_count() 함수를 작성하시오.\n",
    "\n",
    "여기서 연결요소란 그래프에서 하나의 간선으로라도 연결되어 있는 노드들의 그룹을 뜻한다.\n",
    "\n",
    "예시) 아래 그래프에서 연결 요소의 개수는 3개이다. (연결되어 있는 노드들의 그룹이 3개이기 때문)\n",
    "![image.png](attachment:image.png)\n",
    "\n",
    "- 파라미터:\n",
    "    - graph: 인접리스트를 구현한 딕셔너리\n",
    "- 리턴: 연결요소의 수\n",
    "\n",
    "***결과***\n",
    "```\n",
    "3\n",
    "2\n",
    "1\n",
    "```"
   ]
  },
  {
   "cell_type": "code",
   "execution_count": 2,
   "metadata": {
    "ExecuteTime": {
     "end_time": "2021-10-28T03:35:53.318732Z",
     "start_time": "2021-10-28T03:35:53.304741Z"
    },
    "scrolled": true
   },
   "outputs": [
    {
     "name": "stdout",
     "output_type": "stream",
     "text": [
      "None\n",
      "None\n",
      "None\n"
     ]
    }
   ],
   "source": [
    "from typing import List, Dict, Any\n",
    "def connected_count(graph: Dict[Any, List]) -> int:\n",
    "    pass\n",
    "\n",
    "# 아래는 수정하지 마시오.\n",
    "graph = {\n",
    "    1: [2],\n",
    "    2: [1],\n",
    "    3: [4],\n",
    "    4: [3],\n",
    "    5: []\n",
    "}\n",
    "print(connected_count(graph))\n",
    "\n",
    "graph = {\n",
    "    1: [2, 5],\n",
    "    2: [1, 5],\n",
    "    3: [4],\n",
    "    4: [3, 6],\n",
    "    5: [1, 2],\n",
    "    6: [4]\n",
    "}\n",
    "print(connected_count(graph))\n",
    "\n",
    "graph = {\n",
    "    1: [2, 5],\n",
    "    2: [1, 5, 6],\n",
    "    3: [4],\n",
    "    4: [3, 6],\n",
    "    5: [1, 2],\n",
    "    6: [2, 4]\n",
    "}\n",
    "print(connected_count(graph))"
   ]
  },
  {
   "cell_type": "markdown",
   "metadata": {},
   "source": [
    "### 문제8\n",
    "\n",
    "미로 탈출 문제\n",
    "\n",
    "1을 지날 갈 수 칸으로 0을 벽으로 가정한 2D 그리드 맵이 주어졌을 때, 좌측상단에서 출발하여 우측하단으로 이동할 때 지나야 하는 최소의 칸 수를 구하시오.\n",
    "\n",
    "단, 이동은 상하좌우로 1칸씩만 갈 수 있다.\n",
    "\n",
    "- 파라미터: \n",
    "    - grid: 이중리스트로 이루어진 그리드맵\n",
    "- 리턴: 목표지점까지 지나온 1의 개수, 만약 목표에 도달하지 못하면 -1 리턴\n",
    "    \n",
    "\n",
    "***결과***\n",
    "```\n",
    "5\n",
    "15\n",
    "```"
   ]
  },
  {
   "cell_type": "code",
   "execution_count": 3,
   "metadata": {},
   "outputs": [
    {
     "name": "stdout",
     "output_type": "stream",
     "text": [
      "-1\n",
      "-1\n"
     ]
    }
   ],
   "source": [
    "from typing import List, Tuple, Dict, Any\n",
    "from collections import deque\n",
    "def miro(grid:List[List]) -> int:\n",
    "    n_rows = len(grid)\n",
    "    n_cols = len(grid[0])\n",
    "    visited = [[0]*n_cols for _ in range(n_rows)] # 지나간 칸 수를 저장\n",
    "    \n",
    "    start_pos = (0, 0) # 시작 위치\n",
    "    target_pos = (n_rows-1, n_cols-1) # 목표 위치\n",
    "    visited[0][0] = 1 # 시작 위치는 이미 지났다\n",
    "    dxdy = [(0,1), (0,-1), (1,0), (-1,0)] # 동서남북 방향\n",
    "    queue = deque()\n",
    "    \n",
    "    def is_promising(row: int, col: int) -> bool:\n",
    "        pass\n",
    "    \n",
    "    queue.append(start_pos)\n",
    "    while queue:\n",
    "        break\n",
    "    return -1 # 목표까지 가지 못함\n",
    "\n",
    "# 아래는 수정하지 마시오.\n",
    "grid = [\n",
    "    [1,0,1],\n",
    "    [1,1,1],\n",
    "    [1,0,1],\n",
    "]\n",
    "print(miro(grid))\n",
    "\n",
    "grid = [\n",
    "    [1,0,1,1,1,1],\n",
    "    [1,0,1,0,1,0],\n",
    "    [1,0,1,0,1,1],\n",
    "    [1,1,1,0,1,1],\n",
    "]\n",
    "print(miro(grid))"
   ]
  },
  {
   "cell_type": "markdown",
   "metadata": {},
   "source": [
    "### 제출후 모든 파일을 반드시 삭제하세요.\n",
    "\n",
    "한 학기동안 수고 많았습니다."
   ]
  }
 ],
 "metadata": {
  "kernelspec": {
   "display_name": "Python 3",
   "language": "python",
   "name": "python3"
  },
  "language_info": {
   "codemirror_mode": {
    "name": "ipython",
    "version": 3
   },
   "file_extension": ".py",
   "mimetype": "text/x-python",
   "name": "python",
   "nbconvert_exporter": "python",
   "pygments_lexer": "ipython3",
   "version": "3.8.8"
  },
  "toc": {
   "base_numbering": 1,
   "nav_menu": {},
   "number_sections": true,
   "sideBar": true,
   "skip_h1_title": false,
   "title_cell": "Table of Contents",
   "title_sidebar": "Contents",
   "toc_cell": false,
   "toc_position": {},
   "toc_section_display": true,
   "toc_window_display": false
  }
 },
 "nbformat": 4,
 "nbformat_minor": 2
}
