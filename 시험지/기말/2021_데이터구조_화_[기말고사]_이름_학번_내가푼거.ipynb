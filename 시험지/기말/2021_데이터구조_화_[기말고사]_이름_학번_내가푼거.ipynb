{
 "cells": [
  {
   "cell_type": "code",
   "execution_count": 24,
   "metadata": {
    "ExecuteTime": {
     "end_time": "2021-12-14T05:46:17.598759Z",
     "start_time": "2021-12-14T05:46:17.579810Z"
    }
   },
   "outputs": [
    {
     "data": {
      "text/html": [
       "<style>.container { width:95% !important; }</style>"
      ],
      "text/plain": [
       "<IPython.core.display.HTML object>"
      ]
     },
     "metadata": {},
     "output_type": "display_data"
    },
    {
     "data": {
      "text/html": [
       "<style>.input_area pre {font-family: Consolas; font-size: 15pt; line-height: 140%; font-weight: bold}</style>"
      ],
      "text/plain": [
       "<IPython.core.display.HTML object>"
      ]
     },
     "metadata": {},
     "output_type": "display_data"
    },
    {
     "data": {
      "text/html": [
       "<style>.output_area pre {font-family: Consolas; font-size: 15pt; line-height: 140%;}</style>"
      ],
      "text/plain": [
       "<IPython.core.display.HTML object>"
      ]
     },
     "metadata": {},
     "output_type": "display_data"
    }
   ],
   "source": [
    "from IPython.core.display import display, HTML\n",
    "display(HTML(\"<style>.container { width:95% !important; }</style>\"))\n",
    "display(HTML(\"<style>.input_area pre {font-family: Consolas; font-size: 15pt; line-height: 140%; font-weight: bold}</style>\"))\n",
    "display(HTML(\"<style>.output_area pre {font-family: Consolas; font-size: 15pt; line-height: 140%;}</style>\"))\n"
   ]
  },
  {
   "cell_type": "markdown",
   "metadata": {},
   "source": [
    "# << 2021 데이터구조 (화) 기말고사 >>\n",
    "\n",
    "- 주의 사항\n",
    "    1. 시험시간 15:40 ~ 17:00 (16:10 부터 퇴실 가능)\n",
    "    1. 휴대폰의 전원을 끄시오.\n",
    "    1. 부분점수는 없습니다.\n",
    "    1. 개인 전자기기를 사용할 수 없다.\n",
    "    1. closed book\n",
    "        1. 모든 인터넷을 사용할 수 없습니다.\n",
    "        1. 모든 자료를 볼 수 없습니다.\n",
    "    1. 수시로 저장하시오.\n",
    "    1. 셀을 실행시켰을 때, 멈추지 않는다면, 주피터노트북 메뉴에 있는 정지버튼을 누르거나 Kernel 메뉴에서 restart를 누르세요.\n",
    "        - 그래도 동작하지 않는 경우에는 주피터노트북을 다시 시작하세요.\n",
    "    1. 필요시 추가적은 함수나 메소드를 만들어서 사용해도 된다.\n",
    "- 제출 방법\n",
    "    1. `잘못된 파일을 제출했을 경우 기본 점수로 채점됩니다.`\n",
    "    1. 파일 이름에서 '학번'을 자신의 학번으로, '이름'을 자신의 이름으로 고치시오.\n",
    "    1. 캔버스에 주피터노트북 파일(.ipynb)을 제출하세요.\n",
    "        1. 캔버스 사용이 불가능한 경우에만, 이메일로 아래 주소로 제출 하세요.\n",
    "            - ydhwang@suwon.ac.kr\n",
    "            - 메일제목: `[데이터구조] 홍길동`\n",
    "    1. 제출후 모든 파일을 반드시 삭제하세요.\n"
   ]
  },
  {
   "cell_type": "markdown",
   "metadata": {},
   "source": [
    "## 아래 셀을 실행시키시오."
   ]
  },
  {
   "cell_type": "code",
   "execution_count": 1,
   "metadata": {
    "ExecuteTime": {
     "end_time": "2021-12-14T05:46:17.614716Z",
     "start_time": "2021-12-14T05:46:17.599756Z"
    }
   },
   "outputs": [
    {
     "name": "stdout",
     "output_type": "stream",
     "text": [
      "IP Address(Internal) :  192.168.35.134\n"
     ]
    }
   ],
   "source": [
    "# 이 셀을 실행시키세요.\n",
    "from __future__ import annotations\n",
    "from typing import Any, Sequence, List, Tuple, Dict\n",
    "from collections import deque\n",
    "import socket\n",
    "print(\"IP Address(Internal) : \",socket.gethostbyname(socket.gethostname()))\n",
    "class Node:\n",
    "    pass"
   ]
  },
  {
   "cell_type": "markdown",
   "metadata": {
    "ExecuteTime": {
     "end_time": "2019-10-22T07:55:36.236793Z",
     "start_time": "2019-10-22T07:55:36.231780Z"
    }
   },
   "source": [
    "---\n",
    "# 주관식 문제\n",
    "\n",
    "- 문제당 6점"
   ]
  },
  {
   "cell_type": "markdown",
   "metadata": {},
   "source": [
    "---\n",
    "### 문제1\n",
    "\n",
    "정렬된 데이터의 중간에 위치한 항목을 기준으로 데이터를 두 부분으로 나누어 가며 특정 항목을 찾는 탐색방법을 무엇이라고 하는가?"
   ]
  },
  {
   "cell_type": "code",
   "execution_count": 26,
   "metadata": {
    "ExecuteTime": {
     "end_time": "2021-12-14T05:46:17.630674Z",
     "start_time": "2021-12-14T05:46:17.615714Z"
    }
   },
   "outputs": [
    {
     "name": "stdout",
     "output_type": "stream",
     "text": [
      "\n"
     ]
    }
   ],
   "source": [
    "print(\"이진탐색\")"
   ]
  },
  {
   "attachments": {
    "image.png": {
     "image/png": "[encoded data removed]"
    }
   },
   "cell_type": "markdown",
   "metadata": {},
   "source": [
    "---\n",
    "### 문제2\n",
    "\n",
    "아래의 트리에서 노드 G의 레벨은 무엇인가?\n",
    "![image.png](attachment:image.png)"
   ]
  },
  {
   "cell_type": "code",
   "execution_count": 27,
   "metadata": {
    "ExecuteTime": {
     "end_time": "2021-12-14T05:46:17.646632Z",
     "start_time": "2021-12-14T05:46:17.632670Z"
    },
    "scrolled": true
   },
   "outputs": [
    {
     "name": "stdout",
     "output_type": "stream",
     "text": [
      "\n"
     ]
    }
   ],
   "source": [
    "print(\"2\")"
   ]
  },
  {
   "attachments": {
    "image.png": {
     "image/png": "[encoded data removed]"
    }
   },
   "cell_type": "markdown",
   "metadata": {},
   "source": [
    "---\n",
    "### 문제3\n",
    "\n",
    "아래 트리를 전위순회하시오.\n",
    "![image.png](attachment:image.png)"
   ]
  },
  {
   "cell_type": "code",
   "execution_count": 28,
   "metadata": {
    "ExecuteTime": {
     "end_time": "2021-12-14T05:46:17.662590Z",
     "start_time": "2021-12-14T05:46:17.648627Z"
    },
    "scrolled": false
   },
   "outputs": [
    {
     "name": "stdout",
     "output_type": "stream",
     "text": [
      "\n"
     ]
    }
   ],
   "source": [
    "print(\"5214768\")"
   ]
  },
  {
   "cell_type": "markdown",
   "metadata": {},
   "source": [
    "---\n",
    "### 문제4\n",
    "\n",
    "정렬 알고리즘들 중에서 교환 횟수가 가장 적은 정렬알고리즘은 무엇인가?\n"
   ]
  },
  {
   "cell_type": "code",
   "execution_count": 29,
   "metadata": {
    "ExecuteTime": {
     "end_time": "2021-12-14T05:46:17.678546Z",
     "start_time": "2021-12-14T05:46:17.663586Z"
    }
   },
   "outputs": [
    {
     "name": "stdout",
     "output_type": "stream",
     "text": [
      "\n"
     ]
    }
   ],
   "source": [
    "print(\"선택정렬\")"
   ]
  },
  {
   "cell_type": "markdown",
   "metadata": {},
   "source": [
    "---\n",
    "### 문제5\n",
    "\n",
    "이것은 그래프나 트리를 탐색할 때, 경우의 수를 줄이기 위해 사용하는 방법이다. 특정 노드가 유망하지 않으면 그 쪽으로 탐색하지 않고, 부모 노드로 되돌아가는 이 탐색기법을 무엇으라고 하는가?\n"
   ]
  },
  {
   "cell_type": "code",
   "execution_count": 30,
   "metadata": {
    "ExecuteTime": {
     "end_time": "2021-12-14T05:46:17.693506Z",
     "start_time": "2021-12-14T05:46:17.679544Z"
    },
    "scrolled": true
   },
   "outputs": [
    {
     "name": "stdout",
     "output_type": "stream",
     "text": [
      "\n"
     ]
    }
   ],
   "source": [
    "print(\"백트래킹\")"
   ]
  },
  {
   "cell_type": "markdown",
   "metadata": {},
   "source": [
    "----\n",
    "# O,X 문제\n",
    "1. 맞으면 `O`, 틀리면 `X`를 `print()`를 이용하여 출력하시오.\n",
    "1. 배점: 문제를 맞추면 6점, 비워두면 3점, 틀리면 0점"
   ]
  },
  {
   "cell_type": "markdown",
   "metadata": {},
   "source": [
    "---\n",
    "### 문제1\n",
    "\n",
    "이진탐색의 시간복잡도는 최악의 경우에 O(NlogN)이다.\n",
    "\n"
   ]
  },
  {
   "cell_type": "code",
   "execution_count": 31,
   "metadata": {
    "ExecuteTime": {
     "end_time": "2021-12-14T05:46:17.709463Z",
     "start_time": "2021-12-14T05:46:17.694503Z"
    },
    "scrolled": true
   },
   "outputs": [
    {
     "name": "stdout",
     "output_type": "stream",
     "text": [
      "\n"
     ]
    }
   ],
   "source": [
    "print(\"x\")"
   ]
  },
  {
   "attachments": {
    "image.png": {
     "image/png": "[encoded data removed]"
    }
   },
   "cell_type": "markdown",
   "metadata": {},
   "source": [
    "---\n",
    "### 문제2\n",
    "아래 트리는 완전이진 트리이다.\n",
    "\n",
    "![image.png](attachment:image.png)\n",
    "\n",
    "\n"
   ]
  },
  {
   "cell_type": "code",
   "execution_count": 32,
   "metadata": {
    "ExecuteTime": {
     "end_time": "2021-12-14T05:46:17.725420Z",
     "start_time": "2021-12-14T05:46:17.710461Z"
    }
   },
   "outputs": [
    {
     "name": "stdout",
     "output_type": "stream",
     "text": [
      "\n"
     ]
    }
   ],
   "source": [
    "print(\"\")"
   ]
  },
  {
   "cell_type": "markdown",
   "metadata": {},
   "source": [
    "---\n",
    "### 문제3\n",
    "\n",
    "이진탐색트리에 노드를 삽입하는 연산은 최악의 경우에 O(N)이다."
   ]
  },
  {
   "cell_type": "code",
   "execution_count": 33,
   "metadata": {
    "ExecuteTime": {
     "end_time": "2021-12-14T05:46:17.740517Z",
     "start_time": "2021-12-14T05:46:17.726419Z"
    }
   },
   "outputs": [
    {
     "name": "stdout",
     "output_type": "stream",
     "text": [
      "\n"
     ]
    }
   ],
   "source": [
    "print(\"\")"
   ]
  },
  {
   "cell_type": "markdown",
   "metadata": {},
   "source": [
    "---\n",
    "### 문제4\n",
    "\n",
    "퀵정렬은 안정성을 가진다."
   ]
  },
  {
   "cell_type": "code",
   "execution_count": 34,
   "metadata": {
    "ExecuteTime": {
     "end_time": "2021-12-14T05:46:17.755874Z",
     "start_time": "2021-12-14T05:46:17.741469Z"
    },
    "scrolled": true
   },
   "outputs": [
    {
     "name": "stdout",
     "output_type": "stream",
     "text": [
      "\n"
     ]
    }
   ],
   "source": [
    "print(\"\")"
   ]
  },
  {
   "attachments": {
    "image.png": {
     "image/png": "[encoded data removed]"
    }
   },
   "cell_type": "markdown",
   "metadata": {},
   "source": [
    "---\n",
    "### 문제5\n",
    "\n",
    "아래 그래프에서 노드 g의 입접노드는 `[f, h, j]`이다.\n",
    "![image.png](attachment:image.png)"
   ]
  },
  {
   "cell_type": "code",
   "execution_count": 35,
   "metadata": {
    "ExecuteTime": {
     "end_time": "2021-12-14T05:46:17.771020Z",
     "start_time": "2021-12-14T05:46:17.756870Z"
    },
    "scrolled": true
   },
   "outputs": [
    {
     "name": "stdout",
     "output_type": "stream",
     "text": [
      "\n"
     ]
    }
   ],
   "source": [
    "print(\"\")"
   ]
  },
  {
   "cell_type": "markdown",
   "metadata": {},
   "source": [
    "---\n",
    "\n",
    "# 코딩 문제\n",
    "\n",
    "- 문제당 13점\n"
   ]
  },
  {
   "cell_type": "markdown",
   "metadata": {},
   "source": [
    "---\n",
    "### 문제1\n",
    "\n",
    "선형탐색을 수행하는 linear_search() 함수를 완성하시오.\n",
    "\n",
    "이 함수는 Sequence 자료형 seq에서 선형탐색하여 target이 존재하면 그 인덱스를 리턴하고 존재하지 않으면 -1을 리턴한다.\n",
    "\n",
    "***결과***\n",
    "```\n",
    "3\n",
    "1\n",
    "6\n",
    "-1\n",
    "```"
   ]
  },
  {
   "cell_type": "code",
   "execution_count": 10,
   "metadata": {
    "ExecuteTime": {
     "end_time": "2021-12-14T05:46:17.786244Z",
     "start_time": "2021-12-14T05:46:17.772023Z"
    }
   },
   "outputs": [
    {
     "name": "stdout",
     "output_type": "stream",
     "text": [
      "3\n",
      "1\n",
      "6\n",
      "-1\n"
     ]
    }
   ],
   "source": [
    "from typing import Any, Sequence\n",
    "def linear_search(seq: Sequence, target: Any) -> int:\n",
    "    for i in range(len(seq)):\n",
    "        if seq[i]==target:\n",
    "            return i\n",
    "    return -1\n",
    "    pass\n",
    "\n",
    "# 아래는 수정하지 마시오.\n",
    "print(linear_search([6,4,3,2,1,2,8], 2))\n",
    "print(linear_search([6,4,3,2,1,2,8], 4))\n",
    "print(linear_search([6,4,3,2,1,2,8], 8))\n",
    "print(linear_search([6,4,3,2,1,2,8], 10))"
   ]
  },
  {
   "cell_type": "markdown",
   "metadata": {},
   "source": [
    "---\n",
    "### 문제2\n",
    "\n",
    "재귀적 방법을 이용하여 이진탐색 함수를 구현하시오.\n",
    "\n",
    "- 파라미터:\n",
    "    - seq: Sequence 자료형\n",
    "    - target: 찾고 싶은 대상\n",
    "    - left: 탐색 범위 시작 인덱스\n",
    "    - right: 탐색 범위 마지막 인덱스\n",
    "- 리턴: \n",
    "    - target이 발견되었다면 target이 발견된 인덱스 번호를 리턴\n",
    "    - 만약 target이 발결되지 않았다면 -1 리턴\n",
    "\n",
    "\n",
    "\n",
    "***결과***\n",
    "```\n",
    "1\n",
    "4\n",
    "```"
   ]
  },
  {
   "cell_type": "code",
   "execution_count": 15,
   "metadata": {
    "ExecuteTime": {
     "end_time": "2021-12-14T05:46:17.801654Z",
     "start_time": "2021-12-14T05:46:17.787162Z"
    }
   },
   "outputs": [
    {
     "name": "stdout",
     "output_type": "stream",
     "text": [
      "1\n",
      "4\n"
     ]
    }
   ],
   "source": [
    "from typing import Any, List, Dict ,Sequence\n",
    "\n",
    "def binary_search(seq: Sequence, target: Any, left: int, right: int) -> int:\n",
    "    if left>right:\n",
    "        return -1\n",
    "    mid=(left+right)//2\n",
    "    if seq[mid]==target:\n",
    "        return mid\n",
    "    elif seq[mid]>target:\n",
    "        return binary_search(seq,target,left,mid-1)\n",
    "    else:\n",
    "        return binary_search(seq,target,mid+1,right)\n",
    "    pass\n",
    "\n",
    "# 아래는 수정하지 마시오.\n",
    "nums = [1, 2, 3, 4, 5, 6, 8]\n",
    "print(binary_search(nums, 2, 0, len(nums)))\n",
    "print(binary_search(nums, 5, 0, len(nums)))"
   ]
  },
  {
   "cell_type": "markdown",
   "metadata": {},
   "source": [
    "---\n",
    "### 문제3\n",
    "\n",
    "my_counter() 함수는 리스트 nums에서 원소의 개수를 value로 갖는 딕셔너리를 리턴한다. 이 함수를 완성하시오.\n",
    "\n",
    "- 파라미터:\n",
    "    - nums: 리스트\n",
    "- 리턴:\n",
    "    - 딕셔너리를 리턴한다.\n",
    "        - 이 딕셔너리의 key는 리스트 nums의 각 원소이다.\n",
    "        - 이 딕셔너리의 value는 각 원소의 개수이다.\n",
    "        - 예시) `my_counter([1,1,3])` 리스트안에 1이 2개 있고 2가 3개 있기 때문에 리턴값은 {1:2, 3:1} 이다.\n",
    "\n",
    "\n",
    "***결과***\n",
    "```\n",
    "{1: 2, 3: 1}\n",
    "{1: 3, 2: 2, 3: 1}\n",
    "{'A': 1, 'B': 2, 'C': 3}\n",
    "```"
   ]
  },
  {
   "cell_type": "code",
   "execution_count": 18,
   "metadata": {
    "ExecuteTime": {
     "end_time": "2021-12-14T05:46:17.816824Z",
     "start_time": "2021-12-14T05:46:17.802654Z"
    },
    "scrolled": true
   },
   "outputs": [
    {
     "name": "stdout",
     "output_type": "stream",
     "text": [
      "{1: 2, 3: 1}\n",
      "{1: 3, 2: 2, 3: 1}\n",
      "{'A': 1, 'B': 2, 'C': 3}\n"
     ]
    }
   ],
   "source": [
    "from typing import Any, List, Dict ,Sequence\n",
    "\n",
    "def my_counter(nums: List[Any]) -> Dict[Any, int]:\n",
    "    d={}\n",
    "    for i in nums:\n",
    "        if i in d:\n",
    "            d[i]+=1\n",
    "        else:\n",
    "            d[i]=1\n",
    "    return d\n",
    "        \n",
    "    pass\n",
    "\n",
    "# 아래는 수정하지 마시오.\n",
    "print(my_counter([1,1,3]))\n",
    "print(my_counter([1,1,2,1,2,3]))\n",
    "print(my_counter(['A', 'B', 'C', 'C', 'B', 'C']))\n",
    "\n"
   ]
  },
  {
   "cell_type": "markdown",
   "metadata": {},
   "source": [
    "---\n",
    "### 문제4\n",
    "\n",
    "BinarySearchTree 클래스의 delete_in_subtree() 메소드를 완성하시오.\n",
    "\n",
    "***결과***\n",
    "```\n",
    "|           ┌──── 13\n",
    "|     ┌──── 12\n",
    "|     |     └──── 11\n",
    "└──── 9\n",
    "      |     ┌──── 7\n",
    "      └──── 5\n",
    "            └──── 2\n",
    "\n",
    "키가 9인 노드 삭제\n",
    "|           ┌──── 13\n",
    "|     ┌──── 12\n",
    "|     |     └──── 11\n",
    "└──── 7\n",
    "      └──── 5\n",
    "            └──── 2\n",
    "\n",
    "키가 5인 노드 삭제\n",
    "|           ┌──── 13\n",
    "|     ┌──── 12\n",
    "|     |     └──── 11\n",
    "└──── 7\n",
    "      └──── 2\n",
    "\n",
    "키가 11인 노드 삭제\n",
    "|           ┌──── 13\n",
    "|     ┌──── 12\n",
    "└──── 7\n",
    "      └──── 2\n",
    "```"
   ]
  },
  {
   "cell_type": "code",
   "execution_count": 21,
   "metadata": {
    "ExecuteTime": {
     "end_time": "2021-12-14T05:46:17.832813Z",
     "start_time": "2021-12-14T05:46:17.817824Z"
    },
    "scrolled": false
   },
   "outputs": [
    {
     "name": "stdout",
     "output_type": "stream",
     "text": [
      "|           ┌──── 13\n",
      "|     ┌──── 12\n",
      "|     |     └──── 11\n",
      "└──── 9\n",
      "      |     ┌──── 7\n",
      "      └──── 5\n",
      "            └──── 2\n",
      "\n",
      "키가 9인 노드 삭제\n",
      "|           ┌──── 13\n",
      "|     ┌──── 12\n",
      "|     |     └──── 11\n",
      "└──── 7\n",
      "      └──── 5\n",
      "            └──── 2\n",
      "\n",
      "키가 5인 노드 삭제\n",
      "|           ┌──── 13\n",
      "|     ┌──── 12\n",
      "|     |     └──── 11\n",
      "└──── 7\n",
      "      └──── 2\n",
      "\n",
      "키가 11인 노드 삭제\n",
      "|           ┌──── 13\n",
      "|     ┌──── 12\n",
      "└──── 7\n",
      "      └──── 2\n",
      "\n"
     ]
    }
   ],
   "source": [
    "from __future__ import annotations\n",
    "from typing import Any, List, Dict ,Sequence\n",
    "from collections import deque\n",
    "\n",
    "class Node:\n",
    "    def __init__(self, key: int, value: Any):\n",
    "        self.key = key # 키\n",
    "        self.value = value # 값\n",
    "        self.left = None # 왼쪽자식\n",
    "        self.right = None # 오른쪽자식\n",
    "\n",
    "\n",
    "class BinarySearchTree:\n",
    "    def __init__(self):\n",
    "        self.root = None\n",
    "\n",
    "    def insert(self, key: int, value: Any) -> Node:\n",
    "        \"\"\"전체트리에 노드 삽입\"\"\"\n",
    "        self.root = self.insert_to_subtree(key, value, self.root)\n",
    "        return self.root is not None\n",
    "\n",
    "    def insert_to_subtree(self, key: int, value: Any, sroot: Node) -> Node:\n",
    "        \"\"\"서브트리에 노드 삽입\"\"\"\n",
    "        if sroot is None:\n",
    "            return Node(key, value)\n",
    "        else:\n",
    "            if key < sroot.key:\n",
    "                sroot.left = self.insert_to_subtree(key, value, sroot.left)\n",
    "            elif key > sroot.key:\n",
    "                sroot.right = self.insert_to_subtree(key, value, sroot.right)\n",
    "            else:\n",
    "                sroot.value = value\n",
    "            return sroot\n",
    "        \n",
    "    def min_node(self, sroot: Node) -> Node:\n",
    "        \"\"\"서브트리에서 최소키값을 가지는 노드 리턴\"\"\"\n",
    "        if not sroot:\n",
    "            return None\n",
    "        else:\n",
    "            if sroot.left:\n",
    "                return self.min_node(sroot.left)\n",
    "            else:\n",
    "                return sroot\n",
    "    \n",
    "    def max_node(self, sroot: Node) -> Node:\n",
    "        \"\"\"서브트리에서 최대키값을 가지는 노드 리턴\"\"\"\n",
    "        if not sroot:\n",
    "            return None\n",
    "        else:\n",
    "            if sroot.right:\n",
    "                return self.max_node(sroot.right)\n",
    "            else:\n",
    "                return sroot\n",
    "\n",
    "\n",
    "    def delete(self, key: int) -> None:\n",
    "        \"\"\"전체트리에서 노드 삭제\"\"\"\n",
    "        self.root = self.delete_in_subtree(key, self.root)\n",
    "    \n",
    "    # 이 함수를 완성하시오.\n",
    "    def delete_in_subtree(self, key: int, sroot: Node) -> Node:\n",
    "        \"\"\"서브트리에서 노드 삭제\"\"\"\n",
    "        if not sroot:\n",
    "            return\n",
    "\n",
    "        if key == sroot.key:\n",
    "            if sroot.left and sroot.right:\n",
    "                max_node=self.max_node(sroot.left)\n",
    "                sroot.key=max_node.key\n",
    "                sroot.value=max_node.value\n",
    "                \n",
    "                sroot.left=self.delete_in_subtree(max_node.key,sroot.left)\n",
    "                \n",
    "                pass\n",
    "            \n",
    "            elif sroot.left:\n",
    "                sroot = sroot.left\n",
    "            elif sroot.right:\n",
    "                sroot = sroot.right\n",
    "            else:\n",
    "                sroot = None\n",
    "        elif key < sroot.key:\n",
    "            sroot.left=self.delete_in_subtree(key,sroot.left)\n",
    "            pass\n",
    "        else:\n",
    "            sroot.right=self.delete_in_subtree(key,sroot.right)\n",
    "\n",
    "            pass\n",
    "        return sroot  \n",
    "    \n",
    "    def print_tree(self, sroot: Node, prefix=\"\", is_left=True):\n",
    "        \"\"\"트리출력\"\"\"\n",
    "        if not sroot:\n",
    "            return\n",
    "        if sroot.right: # n의 오른쪽 자식이 있으면\n",
    "            indent = \"|     \" if is_left else \"      \"\n",
    "            self.print_tree(sroot.right, prefix+indent, False)\n",
    "        print(prefix, \"└──── \" if is_left else \"┌──── \", sroot.key, sep=\"\") # n 노드의 키값 출력\n",
    "        if sroot.left: # i의 왼쪽 자식이 있으면\n",
    "            indent = \"      \" if is_left else \"|     \"\n",
    "            self.print_tree(sroot.left, prefix+indent, True)\n",
    "        \n",
    "\n",
    "# 아래는 수정하지 마시오.\n",
    "arr = [9, 5, 12, 2, 7, 13, 11]\n",
    "\n",
    "bst = BinarySearchTree()\n",
    "for key in arr:\n",
    "    bst.insert(key, key)\n",
    "    \n",
    "bst.print_tree(bst.root)\n",
    "\n",
    "print(\"\\n키가 9인 노드 삭제\")\n",
    "bst.delete(9)\n",
    "bst.print_tree(bst.root)\n",
    "\n",
    "print(\"\\n키가 5인 노드 삭제\")\n",
    "bst.delete(5)\n",
    "bst.print_tree(bst.root)\n",
    "\n",
    "print(\"\\n키가 11인 노드 삭제\")\n",
    "bst.delete(11)\n",
    "bst.print_tree(bst.root)\n",
    "\n",
    "print()\n",
    "\n"
   ]
  },
  {
   "cell_type": "markdown",
   "metadata": {},
   "source": [
    "---\n",
    "### 문제5\n",
    "\n",
    "메소드 sum_subtree()를 완성하시오. 이 함수는 서브트리에 존재하는 모든 노드의 키값의 합을 리턴한다.\n",
    "\n",
    "- 파라미터:\n",
    "    - sroot: 서브트리의 루트노드\n",
    "- 리턴:\n",
    "    - 서브트리에 존재하는 모든 노드들의 키값의 합\n",
    " \n",
    "***결과***\n",
    "```\n",
    "|           ┌──── 11\n",
    "|     ┌──── 10\n",
    "└──── 9\n",
    "      |           ┌──── 8\n",
    "      |     ┌──── 7\n",
    "      |     |     └──── 6\n",
    "      └──── 5\n",
    "            |     ┌──── 4\n",
    "            |     |     └──── 3\n",
    "            └──── 2\n",
    "                  └──── 1\n",
    "서브트리 9의 노드 합: 66\n",
    "서브트리 7의 노드 합: 21\n",
    "서브트리 2의 노드 합: 10\n",
    "```"
   ]
  },
  {
   "cell_type": "code",
   "execution_count": 26,
   "metadata": {
    "ExecuteTime": {
     "end_time": "2021-12-14T05:46:17.862616Z",
     "start_time": "2021-12-14T05:46:17.833782Z"
    }
   },
   "outputs": [
    {
     "name": "stdout",
     "output_type": "stream",
     "text": [
      "|           ┌──── 11\n",
      "|     ┌──── 10\n",
      "└──── 9\n",
      "      |           ┌──── 8\n",
      "      |     ┌──── 7\n",
      "      |     |     └──── 6\n",
      "      └──── 5\n",
      "            |     ┌──── 4\n",
      "            |     |     └──── 3\n",
      "            └──── 2\n",
      "                  └──── 1\n",
      "서브트리 9의 노드 합: 66\n",
      "서브트리 7의 노드 합: 21\n",
      "서브트리 2의 노드 합: 10\n"
     ]
    }
   ],
   "source": [
    "from __future__ import annotations\n",
    "from typing import Any\n",
    "from collections import deque\n",
    "\n",
    "class Node:\n",
    "    def __init__(self, key: int, value: Any):\n",
    "        self.key = key # 키\n",
    "        self.value = value # 값\n",
    "        self.left = None # 왼쪽자식\n",
    "        self.right = None # 오른쪽자식\n",
    "\n",
    "\n",
    "class BinarySearchTree:\n",
    "    def __init__(self):\n",
    "        self.root = None\n",
    "\n",
    "    def insert(self, key: int, value: Any) -> Node:\n",
    "        \"\"\"전체트리에 노드 삽입\"\"\"\n",
    "        self.root = self.insert_to_subtree(key, value, self.root)\n",
    "        return self.root is not None\n",
    "\n",
    "    def insert_to_subtree(self, key: int, value: Any, sroot: Node) -> Node:\n",
    "        \"\"\"서브트리에 노드 삽입\"\"\"\n",
    "        if sroot is None:\n",
    "            return Node(key, value)\n",
    "        else:\n",
    "            if key < sroot.key:\n",
    "                sroot.left = self.insert_to_subtree(key, value, sroot.left)\n",
    "            elif key > sroot.key:\n",
    "                sroot.right = self.insert_to_subtree(key, value, sroot.right)\n",
    "            else:\n",
    "                sroot.value = value\n",
    "            return sroot    \n",
    "    \n",
    "    def print_tree(self, sroot: Node, prefix=\"\", is_left=True):\n",
    "        \"\"\"트리출력\"\"\"\n",
    "        if not sroot:\n",
    "            return\n",
    "        if sroot.right: # n의 오른쪽 자식이 있으면\n",
    "            indent = \"|     \" if is_left else \"      \"\n",
    "            self.print_tree(sroot.right, prefix+indent, False)\n",
    "        print(prefix, \"└──── \" if is_left else \"┌──── \", sroot.key, sep=\"\") # n 노드의 키값 출력\n",
    "        if sroot.left: # i의 왼쪽 자식이 있으면\n",
    "            indent = \"      \" if is_left else \"|     \"\n",
    "            self.print_tree(sroot.left, prefix+indent, True)\n",
    "    \n",
    "    # 이 함수를 완성하시오.\n",
    "    def sum_subtree(self, sroot: Node) -> int:\n",
    "        \"\"\"서브트리의 모든 노드들의 key의 합을 리턴\"\"\"\n",
    "        if not sroot:\n",
    "            return 0\n",
    "        else:\n",
    "            return self.sum_subtree(sroot.left)+self.sum_subtree(sroot.right)+sroot.key\n",
    "        pass\n",
    "                \n",
    "# 아래는 수정하지 마시오.\n",
    "arr = [9, 5, 10, 2, 7, 11, 1, 4, 6, 8, 3]\n",
    "\n",
    "bst = BinarySearchTree()\n",
    "for key in arr:\n",
    "    bst.insert(key, key)\n",
    "    \n",
    "bst.print_tree(bst.root)\n",
    "print('서브트리 9의 노드 합:', bst.sum_subtree(bst.root))\n",
    "print('서브트리 7의 노드 합:', bst.sum_subtree(bst.root.left.right))\n",
    "print('서브트리 2의 노드 합:', bst.sum_subtree(bst.root.left.left))"
   ]
  },
  {
   "cell_type": "markdown",
   "metadata": {},
   "source": [
    "---\n",
    "### 문제6\n",
    "\n",
    "합병 연산을 하는 merge() 함수를 완성하고, 리스트 3개를 합병하는 함수 merge_three_list()를 완성하시오.\n",
    "\n",
    "주의) merge_three_list() 함수의 시간복잡도는 O(N)이 되도록 한다.\n",
    "\n",
    "\n",
    "- merge_three_list() 함수의 파라미터:\n",
    "    - left: 정렬되어 있는 정수가 들어 있는 리스트\n",
    "    - mid: 정렬되어 있는 정수가 들어 있는 리스트\n",
    "    - right: 정렬되어 있는 정수가 들어 있는 리스트\n",
    "- merge_three_list() 함수의 리턴:\n",
    "    - 합병된 하나의 정렬된 리스트\n",
    " \n",
    "\n",
    "***결과***\n",
    "```\n",
    "[1, 2, 3, 5, 6]\n",
    "[1, 2, 3, 4, 5, 6]\n",
    "[1, 2, 3, 4, 5, 6, 7, 8, 9, 10]\n",
    "```"
   ]
  },
  {
   "cell_type": "code",
   "execution_count": 29,
   "metadata": {
    "ExecuteTime": {
     "end_time": "2021-12-14T05:46:17.877816Z",
     "start_time": "2021-12-14T05:46:17.864851Z"
    }
   },
   "outputs": [
    {
     "name": "stdout",
     "output_type": "stream",
     "text": [
      "[1, 2, 3, 5, 6]\n",
      "[1, 2, 3, 4, 5, 6]\n",
      "[1, 2, 3, 4, 5, 6, 7, 8, 9, 10]\n"
     ]
    }
   ],
   "source": [
    "def merge(left: list, right: list) -> list:\n",
    "    \"\"\"합병\"\"\"\n",
    "    result = [None] * (len(left) + len(right))\n",
    "    i = 0 \n",
    "    j = 0 \n",
    "    for k in range(len(result)):\n",
    "        if i < len(left) and j < len(right):\n",
    "            if left[i]<=right[j]:\n",
    "                result[k]=left[i]\n",
    "                i+=1\n",
    "            else:\n",
    "                result[k]=right[j]\n",
    "                j+=1\n",
    "            pass\n",
    "        elif i >= len(left):\n",
    "            result[k]=right[j]\n",
    "            j+=1\n",
    "            \n",
    "            pass\n",
    "        elif j >= len(right):\n",
    "            result[k]=left[i]\n",
    "            i+=1\n",
    "            pass\n",
    "    return result\n",
    "\n",
    "def merge_three_list(left: list, mid: list, right:list) -> list:\n",
    "    def merge_1(seq):\n",
    "        if len(seq)<=1:\n",
    "            return \n",
    "        mid=len(seq)//2\n",
    "        left=seq[:mid]\n",
    "        right=seq[mid:]\n",
    "        \n",
    "        merge_1(left)\n",
    "        merge_1(right)\n",
    "        \n",
    "        merged=merge(left,right)\n",
    "        for i in range(len(merged)):\n",
    "            seq[i]=merged[i]\n",
    "        return seq\n",
    "    result=merge_1(left+mid+right)   \n",
    "    return result\n",
    "\n",
    "    \n",
    "    \"\"\"리스트 3개를 합병\"\"\"\n",
    "    pass\n",
    "\n",
    "# 아래는 수정하지 마시오.\n",
    "print(merge([2, 5, 6], [1, 3]))\n",
    "print(merge_three_list([2, 5, 6], [1, 3], [4]))\n",
    "print(merge_three_list([1,4,6], [2,5,7], [3, 8, 9, 10]))"
   ]
  },
  {
   "cell_type": "markdown",
   "metadata": {},
   "source": [
    "### 문제7\n",
    "\n",
    "퀵정렬 함수 quick_sort()를 완성하시오.\n",
    "\n",
    "***결과***\n",
    "```\n",
    "[1, 2, 3, 3, 3, 4, 4, 4, 4, 5, 5, 5, 5, 6, 6, 6, 7, 7, 8, 9, 9]\n",
    "True\n",
    "```\n"
   ]
  },
  {
   "cell_type": "code",
   "execution_count": 32,
   "metadata": {
    "ExecuteTime": {
     "end_time": "2021-12-14T05:46:17.893775Z",
     "start_time": "2021-12-14T05:46:17.878815Z"
    },
    "scrolled": true
   },
   "outputs": [
    {
     "name": "stdout",
     "output_type": "stream",
     "text": [
      "[1, 2, 3, 3, 3, 4, 4, 4, 4, 5, 5, 5, 5, 6, 6, 6, 7, 7, 8, 9, 9]\n",
      "True\n"
     ]
    }
   ],
   "source": [
    "def quick_sort(seq: list) -> None:\n",
    "    def partition(start,end):\n",
    "        pivot=start\n",
    "        i=start+1\n",
    "        j=end\n",
    "        while True:\n",
    "            \n",
    "            if i<=end and seq[i]<=seq[pivot]:\n",
    "                i+=1\n",
    "            elif j>=start+1 and seq[j]>seq[pivot]:\n",
    "                j-=1\n",
    "            if i>j:\n",
    "                seq[j],seq[pivot]=seq[pivot],seq[j]\n",
    "                break\n",
    "            seq[i],seq[j]=seq[j],seq[i]\n",
    "        return j\n",
    "                  \n",
    "                \n",
    "    \"\"\"퀵 정렬\"\"\"\n",
    "    def sort(start,end):\n",
    "        if start>end:\n",
    "            return\n",
    "        else:\n",
    "            pivot=partition(start,end)\n",
    "            sort(start,pivot-1)\n",
    "            sort(pivot+1,end)\n",
    "    sort(0,len(seq)-1)\n",
    "    pass\n",
    "\n",
    "# 아래는 수정하지 마시오.\n",
    "arr = [1,8,7,4,5,2,6,3,9, 6, 4, 5, 6,7, 4, 3, 5, 3, 4, 5,9]\n",
    "sorted_arr = sorted(arr)\n",
    "quick_sort(arr)\n",
    "print(arr)\n",
    "print(arr == sorted_arr)\n"
   ]
  },
  {
   "cell_type": "markdown",
   "metadata": {},
   "source": [
    "### 문제8\n",
    "\n",
    "그래프를 너비우선탐색하는 iterative_bfs() 함수를 완성하시오.\n",
    "\n",
    "- 파라미터:\n",
    "    - graph: 인접리스트를 표현한 딕셔너리\n",
    "    - visited: 방문한 노드의 키값을 순서대로 저장 할 리스트\n",
    "    - start: 탐색시작노드\n",
    "- 리턴:\n",
    "    - 없음\n",
    "\n",
    "***결과***\n",
    "```\n",
    "[1, 2, 3, 4, 5, 6, 7]\n",
    "```"
   ]
  },
  {
   "cell_type": "code",
   "execution_count": 48,
   "metadata": {
    "ExecuteTime": {
     "end_time": "2021-12-14T05:46:17.908733Z",
     "start_time": "2021-12-14T05:46:17.895768Z"
    }
   },
   "outputs": [
    {
     "name": "stdout",
     "output_type": "stream",
     "text": [
      "[1, 2, 3, 4, 5, 6, 7]\n"
     ]
    }
   ],
   "source": [
    "from typing import List, Dict, Any\n",
    "from collections import deque\n",
    "\n",
    "def iterative_bfs(graph: Dict[Any, List], visited: List, start: Any) -> None:\n",
    "    \n",
    "    a={k:False for k in graph}\n",
    "    queue=deque()\n",
    "    queue.append(start)\n",
    "    while queue:\n",
    "        v=queue.popleft()\n",
    "        if not a[v]:\n",
    "            visited.append(v)\n",
    "            a[v]=True\n",
    "            for i in graph[v]:\n",
    "                queue.append(v)\n",
    "        \n",
    "    \n",
    "        \n",
    "    \n",
    "        \n",
    "    \n",
    "    \n",
    "\n",
    "## 아래는 수정하지 마시오.\n",
    "graph = {\n",
    "    1: [2, 3, 4],\n",
    "    2: [5],\n",
    "    3: [5],\n",
    "    4: [],\n",
    "    5: [6, 7],\n",
    "    6: [],\n",
    "    7: [3]\n",
    "}\n",
    "\n",
    "visited = []\n",
    "\n",
    "for i in graph:\n",
    "    if not i in visited:\n",
    "        iterative_bfs(graph, visited, i)\n",
    "    \n",
    "print(visited)            "
   ]
  },
  {
   "cell_type": "markdown",
   "metadata": {},
   "source": [
    "### 수고하셨습니다.\n",
    "제출후 모든 파일을 반드시 삭제하세요."
   ]
  }
 ],
 "metadata": {
  "kernelspec": {
   "display_name": "Python 3",
   "language": "python",
   "name": "python3"
  },
  "language_info": {
   "codemirror_mode": {
    "name": "ipython",
    "version": 3
   },
   "file_extension": ".py",
   "mimetype": "text/x-python",
   "name": "python",
   "nbconvert_exporter": "python",
   "pygments_lexer": "ipython3",
   "version": "3.8.8"
  },
  "toc": {
   "base_numbering": 1,
   "nav_menu": {},
   "number_sections": true,
   "sideBar": true,
   "skip_h1_title": false,
   "title_cell": "Table of Contents",
   "title_sidebar": "Contents",
   "toc_cell": false,
   "toc_position": {},
   "toc_section_display": true,
   "toc_window_display": false
  },
  "varInspector": {
   "cols": {
    "lenName": 16,
    "lenType": 16,
    "lenVar": 40
   },
   "kernels_config": {
    "python": {
     "delete_cmd_postfix": "",
     "delete_cmd_prefix": "del ",
     "library": "var_list.py",
     "varRefreshCmd": "print(var_dic_list())"
    },
    "r": {
     "delete_cmd_postfix": ") ",
     "delete_cmd_prefix": "rm(",
     "library": "var_list.r",
     "varRefreshCmd": "cat(var_dic_list()) "
    }
   },
   "types_to_exclude": [
    "module",
    "function",
    "builtin_function_or_method",
    "instance",
    "_Feature"
   ],
   "window_display": false
  }
 },
 "nbformat": 4,
 "nbformat_minor": 2
}
