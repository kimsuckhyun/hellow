{
 "cells": [
  {
   "cell_type": "code",
   "execution_count": 1,
   "metadata": {
    "ExecuteTime": {
     "end_time": "2021-12-15T08:28:59.032545Z",
     "start_time": "2021-12-15T08:28:59.009608Z"
    }
   },
   "outputs": [
    {
     "data": {
      "text/html": [
       "<style>.container { width:95% !important; }</style>"
      ],
      "text/plain": [
       "<IPython.core.display.HTML object>"
      ]
     },
     "metadata": {},
     "output_type": "display_data"
    },
    {
     "data": {
      "text/html": [
       "<style>.input_area pre {font-family: Consolas; font-size: 15pt; line-height: 140%; font-weight: bold}</style>"
      ],
      "text/plain": [
       "<IPython.core.display.HTML object>"
      ]
     },
     "metadata": {},
     "output_type": "display_data"
    },
    {
     "data": {
      "text/html": [
       "<style>.output_area pre {font-family: Consolas; font-size: 15pt; line-height: 140%;}</style>"
      ],
      "text/plain": [
       "<IPython.core.display.HTML object>"
      ]
     },
     "metadata": {},
     "output_type": "display_data"
    }
   ],
   "source": [
    "from IPython.core.display import display, HTML\n",
    "display(HTML(\"<style>.container { width:95% !important; }</style>\"))\n",
    "display(HTML(\"<style>.input_area pre {font-family: Consolas; font-size: 15pt; line-height: 140%; font-weight: bold}</style>\"))\n",
    "display(HTML(\"<style>.output_area pre {font-family: Consolas; font-size: 15pt; line-height: 140%;}</style>\"))\n"
   ]
  },
  {
   "cell_type": "markdown",
   "metadata": {},
   "source": [
    "# << 2021 데이터구조 (목) 기말고사 >>\n",
    "\n",
    "- 주의 사항\n",
    "    1. 시험시간 ```14:40 ~ 15:40``` (15:10 부터 퇴실 가능)\n",
    "    1. 휴대폰의 전원을 끄시오.\n",
    "    1. 부분점수는 없습니다.\n",
    "    1. 개인 전자기기를 사용할 수 없다.\n",
    "    1. closed book\n",
    "        1. 모든 인터넷을 사용할 수 없습니다.\n",
    "        1. 모든 자료를 볼 수 없습니다.\n",
    "    1. 수시로 저장하시오.\n",
    "    1. 셀을 실행시켰을 때, 멈추지 않는다면, 주피터노트북 메뉴에 있는 정지버튼을 누르거나 Kernel 메뉴에서 restart를 누르세요.\n",
    "        - 그래도 동작하지 않는 경우에는 주피터노트북을 다시 시작하세요.\n",
    "    1. 필요시 추가적은 함수나 메소드를 만들어서 사용해도 된다.\n",
    "- 제출 방법\n",
    "    1. `잘못된 파일을 제출했을 경우 기본 점수로 채점됩니다.`\n",
    "    1. 파일 이름에서 '학번'을 자신의 학번으로, '이름'을 자신의 이름으로 고치시오.\n",
    "    1. 캔버스에 주피터노트북 파일(.ipynb)을 제출하세요.\n",
    "        1. 캔버스 사용이 불가능한 경우에만, 이메일로 아래 주소로 제출 하세요.\n",
    "            - ydhwang@suwon.ac.kr\n",
    "            - 메일제목: `[데이터구조] 홍길동`\n",
    "    1. 제출후 모든 파일을 반드시 삭제하세요.\n"
   ]
  },
  {
   "cell_type": "markdown",
   "metadata": {},
   "source": [
    "## 아래 셀을 실행시키시오."
   ]
  },
  {
   "cell_type": "code",
   "execution_count": 1,
   "metadata": {
    "ExecuteTime": {
     "end_time": "2021-12-16T03:31:00.502451Z",
     "start_time": "2021-12-16T03:31:00.489485Z"
    }
   },
   "outputs": [
    {
     "name": "stdout",
     "output_type": "stream",
     "text": [
      "IP Address(Internal) :  192.168.0.205\n"
     ]
    }
   ],
   "source": [
    "# 이 셀을 실행시키세요.\n",
    "from __future__ import annotations\n",
    "from typing import Any, Sequence, List, Tuple, Dict\n",
    "from collections import deque\n",
    "import socket\n",
    "print(\"IP Address(Internal) : \",socket.gethostbyname(socket.gethostname()))\n",
    "class Node:\n",
    "    pass"
   ]
  },
  {
   "cell_type": "markdown",
   "metadata": {
    "ExecuteTime": {
     "end_time": "2019-10-22T07:55:36.236793Z",
     "start_time": "2019-10-22T07:55:36.231780Z"
    }
   },
   "source": [
    "---\n",
    "# 주관식 문제\n",
    "\n",
    "- 문제당 6점"
   ]
  },
  {
   "cell_type": "markdown",
   "metadata": {},
   "source": [
    "---\n",
    "### 문제1\n",
    "\n",
    "평균적인 경우의 해시탐색의 시간복잡도를 빅오 표기법으로 나타내시오."
   ]
  },
  {
   "cell_type": "code",
   "execution_count": 3,
   "metadata": {
    "ExecuteTime": {
     "end_time": "2021-12-16T02:23:40.600294Z",
     "start_time": "2021-12-16T02:23:40.586332Z"
    }
   },
   "outputs": [
    {
     "name": "stdout",
     "output_type": "stream",
     "text": [
      "O(1)\n"
     ]
    }
   ],
   "source": [
    "print(\"O(1)\")"
   ]
  },
  {
   "cell_type": "markdown",
   "metadata": {},
   "source": [
    "---\n",
    "### 문제2\n",
    "\n",
    "마지막 레벨을 제외한 각 레벨이 노드들로 꽉 차있고, 마지막 레벨에는 노드들이 왼쪽부터 빠짐없이 채워진 이진트리를 무엇이라고 하는가?"
   ]
  },
  {
   "cell_type": "code",
   "execution_count": 4,
   "metadata": {
    "ExecuteTime": {
     "end_time": "2021-12-16T02:23:46.640859Z",
     "start_time": "2021-12-16T02:23:46.635845Z"
    },
    "scrolled": true
   },
   "outputs": [
    {
     "name": "stdout",
     "output_type": "stream",
     "text": [
      "완전이진트리\n"
     ]
    }
   ],
   "source": [
    "print(\"완전이진트리\")"
   ]
  },
  {
   "attachments": {
    "image.png": {
     "image/png": "[encoded data removed]"
    }
   },
   "cell_type": "markdown",
   "metadata": {},
   "source": [
    "---\n",
    "### 문제3\n",
    "\n",
    "아래 이진트리를 중위순회하시오.\n",
    "![image.png](attachment:image.png)"
   ]
  },
  {
   "cell_type": "code",
   "execution_count": 5,
   "metadata": {
    "ExecuteTime": {
     "end_time": "2021-12-16T02:26:03.464323Z",
     "start_time": "2021-12-16T02:26:03.460334Z"
    },
    "scrolled": false
   },
   "outputs": [
    {
     "name": "stdout",
     "output_type": "stream",
     "text": [
      "2467\n"
     ]
    }
   ],
   "source": [
    "print(\"2467\")"
   ]
  },
  {
   "cell_type": "markdown",
   "metadata": {},
   "source": [
    "---\n",
    "### 문제4\n",
    "\n",
    "최악의 경우에 `합병(merge) 함수의 시간복잡도`를 빅오표기법으로 나타내시오.\n"
   ]
  },
  {
   "cell_type": "code",
   "execution_count": 6,
   "metadata": {
    "ExecuteTime": {
     "end_time": "2021-12-16T02:26:07.769085Z",
     "start_time": "2021-12-16T02:26:07.764075Z"
    }
   },
   "outputs": [
    {
     "name": "stdout",
     "output_type": "stream",
     "text": [
      "O(N)\n"
     ]
    }
   ],
   "source": [
    "print(\"O(NlogN)\")"
   ]
  },
  {
   "cell_type": "markdown",
   "metadata": {},
   "source": [
    "---\n",
    "### 문제5\n",
    "\n",
    "이 것은 그래프 용어로, 시작노드와 도착노드가 같고, 도착노드를 제외한 모든 노드들이 단순경로인 경로이다. 이런 경로를 무엇이라고 하는가?\n"
   ]
  },
  {
   "cell_type": "code",
   "execution_count": 7,
   "metadata": {
    "ExecuteTime": {
     "end_time": "2021-12-16T02:26:11.388846Z",
     "start_time": "2021-12-16T02:26:11.371919Z"
    },
    "scrolled": true
   },
   "outputs": [
    {
     "name": "stdout",
     "output_type": "stream",
     "text": [
      "사이클\n"
     ]
    }
   ],
   "source": [
    "print(\"사이클\")"
   ]
  },
  {
   "cell_type": "markdown",
   "metadata": {},
   "source": [
    "----\n",
    "# O,X 문제\n",
    "1. 맞으면 `O`, 틀리면 `X`를 `print()`를 이용하여 출력하시오.\n",
    "1. 배점: 문제를 맞추면 6점, 비워두면 3점, 틀리면 0점"
   ]
  },
  {
   "cell_type": "markdown",
   "metadata": {},
   "source": [
    "---\n",
    "### 문제1\n",
    "\n",
    "이진탐색의 최선의 경우에 시간복잡도는 O(logN)이다.\n",
    "\n"
   ]
  },
  {
   "cell_type": "code",
   "execution_count": 6,
   "metadata": {
    "ExecuteTime": {
     "end_time": "2021-12-16T02:26:15.049476Z",
     "start_time": "2021-12-16T02:26:15.036511Z"
    },
    "scrolled": true
   },
   "outputs": [
    {
     "name": "stdout",
     "output_type": "stream",
     "text": [
      "\n"
     ]
    }
   ],
   "source": [
    "print(\"O\")"
   ]
  },
  {
   "cell_type": "markdown",
   "metadata": {},
   "source": [
    "---\n",
    "### 문제2\n",
    "\n",
    "이진트리에서 레벨3의 최대노드 수는 16개이다.\n"
   ]
  },
  {
   "cell_type": "code",
   "execution_count": 7,
   "metadata": {
    "ExecuteTime": {
     "end_time": "2021-12-16T02:26:18.693564Z",
     "start_time": "2021-12-16T02:26:18.676610Z"
    }
   },
   "outputs": [
    {
     "name": "stdout",
     "output_type": "stream",
     "text": [
      "\n"
     ]
    }
   ],
   "source": [
    "print(\"X\")"
   ]
  },
  {
   "attachments": {
    "image.png": {
     "image/png": "[encoded data removed]"
    }
   },
   "cell_type": "markdown",
   "metadata": {},
   "source": [
    "---\n",
    "### 문제3\n",
    "아래 이진트리는 이진탐색트리이다.\n",
    "![image.png](attachment:image.png)"
   ]
  },
  {
   "cell_type": "code",
   "execution_count": 8,
   "metadata": {
    "ExecuteTime": {
     "end_time": "2021-12-16T02:26:22.404972Z",
     "start_time": "2021-12-16T02:26:22.388047Z"
    }
   },
   "outputs": [
    {
     "name": "stdout",
     "output_type": "stream",
     "text": [
      "\n"
     ]
    }
   ],
   "source": [
    "print(\"O\")"
   ]
  },
  {
   "cell_type": "markdown",
   "metadata": {},
   "source": [
    "---\n",
    "### 문제4\n",
    "\n",
    "삽입정렬의 최선의 경우 시간복잡도는 O(N)이다."
   ]
  },
  {
   "cell_type": "code",
   "execution_count": 9,
   "metadata": {
    "ExecuteTime": {
     "end_time": "2021-12-16T02:26:25.158315Z",
     "start_time": "2021-12-16T02:26:25.147344Z"
    },
    "scrolled": true
   },
   "outputs": [
    {
     "name": "stdout",
     "output_type": "stream",
     "text": [
      "\n"
     ]
    }
   ],
   "source": [
    "print(\"X\")"
   ]
  },
  {
   "attachments": {
    "image.png": {
     "image/png": "[encoded data removed]"
    }
   },
   "cell_type": "markdown",
   "metadata": {},
   "source": [
    "---\n",
    "### 문제5\n",
    "\n",
    "아래 그래프에서 노드 f를 시작으로 너비우선탐색을 하게되면 가장 마지막에 방문하는 노드는 반드시 노드 j이다.\n",
    "![image.png](attachment:image.png)"
   ]
  },
  {
   "cell_type": "code",
   "execution_count": 8,
   "metadata": {
    "ExecuteTime": {
     "end_time": "2021-12-16T02:26:43.036967Z",
     "start_time": "2021-12-16T02:26:43.027961Z"
    },
    "scrolled": true
   },
   "outputs": [
    {
     "name": "stdout",
     "output_type": "stream",
     "text": [
      "O\n"
     ]
    }
   ],
   "source": [
    "print(\"O\")"
   ]
  },
  {
   "cell_type": "markdown",
   "metadata": {},
   "source": [
    "---\n",
    "\n",
    "# 코딩 문제\n",
    "\n",
    "- 문제당 13점\n"
   ]
  },
  {
   "cell_type": "markdown",
   "metadata": {},
   "source": [
    "---\n",
    "### 문제1\n",
    "\n",
    "seq 안에 target이 몇개 존재하는지 알아내는 함수 my_counter() 를 구현하시오.\n",
    "\n",
    "- 주의)\n",
    "    - 반복문을 사용하여 O(N) 시간 안에 구현하시오.\n",
    "\n",
    "- 파라미터:\n",
    "    - seq: 시쿼스\n",
    "    - target: 찾고 싶은 대상\n",
    "- 리턴:\n",
    "    - target과 값이 같은 원소가 seq에 몇개 들어 있는지 리턴\n",
    "\n",
    "\n",
    "***결과***\n",
    "```\n",
    "3\n",
    "2\n",
    "1\n",
    "0\n",
    "```"
   ]
  },
  {
   "cell_type": "code",
   "execution_count": 22,
   "metadata": {
    "ExecuteTime": {
     "end_time": "2021-12-16T02:27:52.373510Z",
     "start_time": "2021-12-16T02:27:52.363509Z"
    }
   },
   "outputs": [
    {
     "name": "stdout",
     "output_type": "stream",
     "text": [
      "3\n",
      "2\n",
      "1\n",
      "0\n"
     ]
    }
   ],
   "source": [
    "from typing import Any, Sequence\n",
    "def my_counter(seq: Sequence, target: Any) -> int:\n",
    "    count = 0\n",
    "    for i in range(len(seq)):\n",
    "        if seq[i] == target:\n",
    "            count += 1\n",
    "        else:\n",
    "            pass\n",
    "    return count\n",
    "\n",
    "# 아래는 수정하지 마시오.\n",
    "print(my_counter([2,6,4,3,2,1,2,8], 2)) # 2가 리스트 안에 몇개 있는지 리턴\n",
    "print(my_counter([6,4,3,2,1,2,4], 4))\n",
    "print(my_counter([6,4,3,2,1,2,8], 8))\n",
    "print(my_counter([6,4,3,2,1,2,8], 10))"
   ]
  },
  {
   "cell_type": "markdown",
   "metadata": {},
   "source": [
    "---\n",
    "### 문제2\n",
    "\n",
    "반복적 방법을 이용하여 이진탐색 함수를 구현하시오.\n",
    "\n",
    "주의) 재귀적 방법을 사용하면 안됨\n",
    "\n",
    "- 파라미터:\n",
    "    - seq: Sequence 자료형\n",
    "    - target: 찾고 싶은 대상\n",
    "- 리턴: \n",
    "    - target이 발견되었다면 target이 발견된 인덱스 번호를 리턴\n",
    "    - 만약 target이 발결되지 않았다면 -1 리턴\n",
    "\n",
    "\n",
    "\n",
    "***결과***\n",
    "```\n",
    "2\n",
    "7\n",
    "-1\n",
    "```"
   ]
  },
  {
   "cell_type": "code",
   "execution_count": 5,
   "metadata": {
    "ExecuteTime": {
     "end_time": "2021-12-16T02:46:16.537361Z",
     "start_time": "2021-12-16T02:46:16.522374Z"
    }
   },
   "outputs": [
    {
     "name": "stdout",
     "output_type": "stream",
     "text": [
      "2\n",
      "7\n",
      "-1\n"
     ]
    }
   ],
   "source": [
    "def binary_search_iter(seq: Sequence, target: Any) -> int:\n",
    "    left=0\n",
    "    right=len(seq)-1\n",
    "    while left<right:\n",
    "        mid=(left+right)//2\n",
    "        if seq[mid]==target:\n",
    "            return mid\n",
    "        elif seq[mid]<target:\n",
    "            left=mid+1\n",
    "        else:\n",
    "            right=mid-1\n",
    "    return -1\n",
    "        \n",
    "\n",
    "# 아래는 수정하지 마시오.\n",
    "nums = [0, 1, 3, 4, 5, 6, 8, 9, 12]\n",
    "\n",
    "print(binary_search_iter(nums, 3))\n",
    "print(binary_search_iter(nums, 9))\n",
    "print(binary_search_iter(nums, 7))"
   ]
  },
  {
   "cell_type": "markdown",
   "metadata": {},
   "source": [
    "---\n",
    "### 문제3\n",
    "\n",
    "most_element() 함수는 리스트 nums에서 가장 빈번하게 나오는 원소를 리턴한다. 이 함수를 작성하시오.\n",
    "\n",
    "- 주의) \n",
    "    - 반드시 O(N) 시간 안에 끝나도록 작성하시오.\n",
    "    - 딕셔너리와 반복문을 이용하여 작성하시오.\n",
    "    - 가장 빈번하게 나오는 원소는 하나밖에 없다고 가정한다.\n",
    "\n",
    "- 파라미터:\n",
    "    - nums: 리스트\n",
    "- 리턴:\n",
    "    - nums 에서 가장 빈번하게 나온 원소를 리턴\n",
    "\n",
    "\n",
    "***결과***\n",
    "```\n",
    "1\n",
    "3\n",
    "C\n",
    "```"
   ]
  },
  {
   "cell_type": "code",
   "execution_count": 8,
   "metadata": {
    "ExecuteTime": {
     "end_time": "2021-12-16T02:29:26.685077Z",
     "start_time": "2021-12-16T02:29:26.676101Z"
    },
    "scrolled": true
   },
   "outputs": [
    {
     "name": "stdout",
     "output_type": "stream",
     "text": [
      "1\n",
      "3\n",
      "C\n"
     ]
    }
   ],
   "source": [
    "from typing import Any, List, Dict ,Sequence\n",
    "\n",
    "def most_element(nums: List[Any]) -> Any:\n",
    "    d={}\n",
    "    for i in nums:\n",
    "        if i in d:\n",
    "            d[i]+=1\n",
    "        else:\n",
    "            d[i]=1\n",
    "    return sorted(d.items(),key=lambda x:x[1])[-1][0]\n",
    "        \n",
    "    pass\n",
    "\n",
    "# 아래는 수정하지 마시오.\n",
    "print(most_element([1,1,3]))\n",
    "print(most_element([1,3,1,2,3,1,2,3,3]))\n",
    "print(most_element(['A', 'B', 'C', 'C', 'B', 'C', 'D', 'D']))\n",
    "\n"
   ]
  },
  {
   "cell_type": "markdown",
   "metadata": {},
   "source": [
    "---\n",
    "### 문제4\n",
    "\n",
    "BinarySearchTree 클래스의 find_in_subtree() 메소드를 완성하시오.\n",
    "이 함수는 서브트리의 노드들에서 key를 검색하여 성공하면 그 노드의 value 값을 리턴한다.\n",
    "\n",
    "- 파라미터:\n",
    "    - key: 찾고자 하는 노드의 키\n",
    "    - sroot: 서브트리의 루트 노드\n",
    "- 리턴:\n",
    "    - 서브트리에서 key를 검색하여 존재하면 그 노드의 value를 리턴\n",
    "    -   존재하지 않으면, None을 리턴\n",
    "\n",
    "***결과***\n",
    "```\n",
    "B\n",
    "A\n",
    "G\n",
    "```"
   ]
  },
  {
   "cell_type": "code",
   "execution_count": 9,
   "metadata": {
    "ExecuteTime": {
     "end_time": "2021-12-16T02:30:49.363469Z",
     "start_time": "2021-12-16T02:30:49.347507Z"
    }
   },
   "outputs": [
    {
     "name": "stdout",
     "output_type": "stream",
     "text": [
      "B\n",
      "A\n",
      "G\n"
     ]
    }
   ],
   "source": [
    "from __future__ import annotations\n",
    "from typing import Any, List, Dict ,Sequence\n",
    "from collections import deque\n",
    "\n",
    "class Node:\n",
    "    def __init__(self, key: int, value: Any):\n",
    "        self.key = key # 키\n",
    "        self.value = value # 값\n",
    "        self.left = None # 왼쪽자식\n",
    "        self.right = None # 오른쪽자식\n",
    "\n",
    "\n",
    "class BinarySearchTree:\n",
    "    def __init__(self):\n",
    "        self.root = None\n",
    "\n",
    "    def insert(self, key: int, value: Any) -> Node:\n",
    "        \"\"\"전체트리에 노드 삽입\"\"\"\n",
    "        self.root = self.insert_to_subtree(key, value, self.root)\n",
    "        return self.root is not None\n",
    "\n",
    "    def insert_to_subtree(self, key: int, value: Any, sroot: Node) -> Node:\n",
    "        \"\"\"서브트리에 노드 삽입\"\"\"\n",
    "        if sroot is None:\n",
    "            return Node(key, value)\n",
    "        else:\n",
    "            if key < sroot.key:\n",
    "                sroot.left = self.insert_to_subtree(key, value, sroot.left)\n",
    "            elif key > sroot.key:\n",
    "                sroot.right = self.insert_to_subtree(key, value, sroot.right)\n",
    "            else:\n",
    "                sroot.value = value\n",
    "            return sroot\n",
    "    \n",
    "    def find(self, key: int) -> Any:\n",
    "        \"\"\"전체트리에서 노드 탐색 후 값 리턴\"\"\"\n",
    "        return self.find_in_subtree(key, self.root)\n",
    "    \n",
    "    # 이 함수를 작성하시오.\n",
    "    def find_in_subtree(self, key: int, sroot: Node) -> Any:\n",
    "        \"\"\"서브트리에서 노드 탐색 후 값 리턴\"\"\"\n",
    "        if not sroot:\n",
    "            return None\n",
    "        elif sroot.key==key:\n",
    "            return sroot.value\n",
    "        elif sroot.key>key:\n",
    "            return self.find_in_subtree(key,sroot.left)\n",
    "        else:\n",
    "            return self.find_in_subtree(key,sroot.right)\n",
    "        \n",
    "    def print_tree(self, sroot: Node, prefix=\"\", is_left=True):\n",
    "        \"\"\"트리출력\"\"\"\n",
    "        if not sroot:\n",
    "            return\n",
    "        if sroot.right: # n의 오른쪽 자식이 있으면\n",
    "            indent = \"|     \" if is_left else \"      \"\n",
    "            self.print_tree(sroot.right, prefix+indent, False)\n",
    "        print(prefix, \"└──── \" if is_left else \"┌──── \", sroot.key, sep=\"\") # n 노드의 키값 출력\n",
    "        if sroot.left: # i의 왼쪽 자식이 있으면\n",
    "            indent = \"      \" if is_left else \"|     \"\n",
    "            self.print_tree(sroot.left, prefix+indent, True)\n",
    "        \n",
    "\n",
    "# 아래는 수정하지 마시오.\n",
    "arr = [(9, 'A'), (5, 'B'), (12, 'C'), (2, 'D'), (7, 'E'), (13, 'F'), (11, 'G')] # (key, value)\n",
    "\n",
    "bst = BinarySearchTree()\n",
    "for key, value in arr:\n",
    "    bst.insert(key, value)\n",
    "\n",
    "print(bst.find(5))\n",
    "print(bst.find(9))\n",
    "print(bst.find(11))\n"
   ]
  },
  {
   "cell_type": "markdown",
   "metadata": {},
   "source": [
    "---\n",
    "### 문제5\n",
    "\n",
    "메소드 delete_max_subtree()를 완성하시오. 이 함수는 서브트리에서 최대키값을 가지는 노드를 삭제한다.\n",
    "\n",
    "- 주의) \n",
    "    - 최대키값을 삭제 한 후에도 이진탐색트리를 유지해야 한다.\n",
    "    \n",
    "- 힌트)\n",
    "    - 최대키값을 가지는 노드를 찾는 방법과 자식이 하나 이하인 노드를 삭제하는 방법을 응용\n",
    " \n",
    "- 파라미터:\n",
    "    - sroot: 서브트리의 루트노드\n",
    "- 리턴:\n",
    "    - 변경된 서브트리의 루트노드 리턴\n",
    " \n",
    "***결과***\n",
    "```\n",
    "트리 전체\n",
    "|           ┌──── 13\n",
    "|     ┌──── 12\n",
    "|     |     └──── 11\n",
    "└──── 10\n",
    "      |     ┌──── 7\n",
    "      └──── 5\n",
    "            └──── 2\n",
    "최대키 삭제\n",
    "|     ┌──── 12\n",
    "|     |     └──── 11\n",
    "└──── 10\n",
    "      |     ┌──── 7\n",
    "      └──── 5\n",
    "            └──── 2\n",
    "최대키 삭제\n",
    "|     ┌──── 11\n",
    "└──── 10\n",
    "      |     ┌──── 7\n",
    "      └──── 5\n",
    "            └──── 2\n",
    "최대키 삭제\n",
    "└──── 10\n",
    "      |     ┌──── 7\n",
    "      └──── 5\n",
    "            └──── 2\n",
    "최대키 삭제\n",
    "|     ┌──── 7\n",
    "└──── 5\n",
    "      └──── 2\n",
    "```"
   ]
  },
  {
   "cell_type": "code",
   "execution_count": 2,
   "metadata": {
    "ExecuteTime": {
     "end_time": "2021-12-16T03:29:22.896152Z",
     "start_time": "2021-12-16T03:29:22.872216Z"
    },
    "scrolled": false
   },
   "outputs": [
    {
     "name": "stdout",
     "output_type": "stream",
     "text": [
      "트리 전체\n",
      "|           ┌──── 13\n",
      "|     ┌──── 12\n",
      "|     |     └──── 11\n",
      "└──── 10\n",
      "      |     ┌──── 7\n",
      "      └──── 5\n",
      "            └──── 2\n",
      "최대키 삭제\n",
      "|     ┌──── 12\n",
      "|     |     └──── 11\n",
      "└──── 10\n",
      "      |     ┌──── 7\n",
      "      └──── 5\n",
      "            └──── 2\n",
      "최대키 삭제\n",
      "|     ┌──── 11\n",
      "└──── 10\n",
      "      |     ┌──── 7\n",
      "      └──── 5\n",
      "            └──── 2\n",
      "최대키 삭제\n",
      "└──── 10\n",
      "      |     ┌──── 7\n",
      "      └──── 5\n",
      "            └──── 2\n",
      "최대키 삭제\n",
      "|     ┌──── 7\n",
      "└──── 5\n",
      "      └──── 2\n"
     ]
    }
   ],
   "source": [
    "from __future__ import annotations\n",
    "from typing import Any, List, Dict ,Sequence\n",
    "from collections import deque\n",
    "\n",
    "class Node:\n",
    "    def __init__(self, key: int, value: Any):\n",
    "        self.key = key # 키\n",
    "        self.value = value # 값\n",
    "        self.left = None # 왼쪽자식\n",
    "        self.right = None # 오른쪽자식\n",
    "\n",
    "\n",
    "class BinarySearchTree:\n",
    "    def __init__(self):\n",
    "        self.root = None\n",
    "\n",
    "    def insert(self, key: int, value: Any) -> Node:\n",
    "        \"\"\"전체트리에 노드 삽입\"\"\"\n",
    "        self.root = self.insert_to_subtree(key, value, self.root)\n",
    "        return self.root is not None\n",
    "\n",
    "    def insert_to_subtree(self, key: int, value: Any, sroot: Node) -> Node:\n",
    "        \"\"\"서브트리에 노드 삽입\"\"\"\n",
    "        if sroot is None:\n",
    "            return Node(key, value)\n",
    "        else:\n",
    "            if key < sroot.key:\n",
    "                sroot.left = self.insert_to_subtree(key, value, sroot.left)\n",
    "            elif key > sroot.key:\n",
    "                sroot.right = self.insert_to_subtree(key, value, sroot.right)\n",
    "            else:\n",
    "                sroot.value = value\n",
    "            return sroot\n",
    "    \n",
    "    def print_tree(self, sroot: Node, prefix=\"\", is_left=True):\n",
    "        \"\"\"트리출력\"\"\"\n",
    "        if not sroot:\n",
    "            return\n",
    "        if sroot.right: # n의 오른쪽 자식이 있으면\n",
    "            indent = \"|     \" if is_left else \"      \"\n",
    "            self.print_tree(sroot.right, prefix+indent, False)\n",
    "        print(prefix, \"└──── \" if is_left else \"┌──── \", sroot.key, sep=\"\") # n 노드의 키값 출력\n",
    "        if sroot.left: # i의 왼쪽 자식이 있으면\n",
    "            indent = \"      \" if is_left else \"|     \"\n",
    "            self.print_tree(sroot.left, prefix+indent, True)\n",
    "    \n",
    "    def delete_max(self):\n",
    "        self.root = self.delete_max_subtree(self.root)\n",
    "        \n",
    "    # 이 함수를 수정하시오.\n",
    "    def delete_max_subtree(self, sroot: Node) -> Node:\n",
    "        if not sroot:\n",
    "            return\n",
    "        if sroot.right:\n",
    "            sroot.right=self.delete_max_subtree(sroot.right)\n",
    "        elif sroot.right==None and sroot.left:\n",
    "            sroot=sroot.left\n",
    "        elif sroot.right==None and sroot.left==None:\n",
    "            sroot=None\n",
    "            \n",
    "           \n",
    "        return sroot\n",
    "            \n",
    "        \n",
    "        \n",
    "            \n",
    "        \n",
    "            \n",
    "            \n",
    "        \n",
    "\n",
    "# 아래는 수정하지 마시오.\n",
    "arr = [10, 5, 12, 2, 7, 13, 11]\n",
    "\n",
    "bst = BinarySearchTree()\n",
    "for key in arr:\n",
    "    bst.insert(key, key)\n",
    "\n",
    "print(\"트리 전체\")\n",
    "bst.print_tree(bst.root)\n",
    "\n",
    "print(\"최대키 삭제\")\n",
    "bst.delete_max()\n",
    "bst.print_tree(bst.root)\n",
    "\n",
    "print(\"최대키 삭제\")\n",
    "bst.delete_max()\n",
    "bst.print_tree(bst.root)\n",
    "\n",
    "print(\"최대키 삭제\")\n",
    "bst.delete_max()\n",
    "bst.print_tree(bst.root)\n",
    "\n",
    "print(\"최대키 삭제\")\n",
    "bst.delete_max()\n",
    "bst.print_tree(bst.root)\n"
   ]
  },
  {
   "cell_type": "markdown",
   "metadata": {},
   "source": [
    "---\n",
    "### 문제6\n",
    "\n",
    "삽입정렬 insertion_sort() 함수를 구현하시오.\n",
    "\n",
    "- 파라미터:\n",
    "    - seq: 숫자가 들어 있는 리스트\n",
    "- 리턴:\n",
    "    - 없음\n",
    " \n",
    "\n",
    "***결과***\n",
    "```\n",
    "[1, 2, 2, 4, 5, 5, 6, 7, 8, 9]\n",
    "```"
   ]
  },
  {
   "cell_type": "code",
   "execution_count": 34,
   "metadata": {
    "ExecuteTime": {
     "end_time": "2021-12-16T03:29:17.998322Z",
     "start_time": "2021-12-16T03:29:17.982390Z"
    }
   },
   "outputs": [
    {
     "name": "stdout",
     "output_type": "stream",
     "text": [
      "[1, 2, 2, 4, 5, 5, 6, 7, 8, 9]\n"
     ]
    }
   ],
   "source": [
    "def insertion_sort(seq: list) -> None:\n",
    "    \"\"\"삽입 정렬\"\"\"\n",
    "    n = len(seq)\n",
    "    for i in range(1, n):\n",
    "        for j in range(i, 0, -1):\n",
    "            if seq[j - 1] > seq[j]:\n",
    "                seq[j-1], seq[j] = seq[j], seq[j-1]\n",
    "                \n",
    "            pass\n",
    "\n",
    "# 아래는 수정하지 마시오.\n",
    "arr = [4,5,2,1,9,6,7,8,2,5]\n",
    "insertion_sort(arr)\n",
    "print(arr)\n",
    "        "
   ]
  },
  {
   "cell_type": "markdown",
   "metadata": {},
   "source": [
    "### 문제7\n",
    "\n",
    "퀵정렬 함수 quick_sort()를 구현하시오.\n",
    "\n",
    "***결과***\n",
    "```\n",
    "[1, 2, 3, 4, 4, 4, 5, 5, 6, 6, 6, 7, 7, 8, 9]\n",
    "True\n",
    "```\n"
   ]
  },
  {
   "cell_type": "code",
   "execution_count": 42,
   "metadata": {
    "ExecuteTime": {
     "end_time": "2021-12-16T03:28:26.459022Z",
     "start_time": "2021-12-16T03:28:26.401941Z"
    },
    "scrolled": true
   },
   "outputs": [
    {
     "name": "stdout",
     "output_type": "stream",
     "text": [
      "[1, 2, 3, 4, 4, 4, 5, 5, 6, 6, 6, 7, 7, 8, 9]\n",
      "True\n"
     ]
    }
   ],
   "source": [
    "def quick_sort(seq: list) -> None:\n",
    "    \"\"\"퀵 정렬\"\"\"\n",
    "    def partition(start: int, end: int) -> int:\n",
    "        pivot = start\n",
    "        i = start+1\n",
    "        j = end\n",
    "        while True:\n",
    "            while i <= end and seq[i] <= seq[pivot]:\n",
    "                i += 1\n",
    "            while start+1 <= j and seq[j] > seq[pivot]:\n",
    "                j -= 1\n",
    "            if i >j :\n",
    "                seq[j],seq[pivot]=seq[pivot],seq[j]\n",
    "                break\n",
    "            \n",
    "            seq[i], seq[j] = seq[j], seq[i]\n",
    "                \n",
    "            \n",
    "       \n",
    "        return j\n",
    "    \n",
    "    def sort(start: int, end: int) -> None:\n",
    "        if start < end:\n",
    "            pivot = partition(start, end)\n",
    "            sort(start, pivot - 1)\n",
    "            sort(pivot + 1, end)\n",
    "\n",
    "    sort(0, len(seq) - 1)\n",
    "\n",
    "# 아래는 수정하지 마시오.\n",
    "arr = [1,8,7,4,5,2,6,3,9,6,4,5,6,7,4]\n",
    "sorted_arr = sorted(arr)\n",
    "quick_sort(arr)\n",
    "print(arr)\n",
    "print(arr == sorted_arr)\n",
    "\n"
   ]
  },
  {
   "cell_type": "markdown",
   "metadata": {},
   "source": [
    "### 문제8\n",
    "\n",
    "counting_islands() 함수를 구현하시오.\n",
    "counting_islands()는 1을 육지로 0을 물로 가정한 2차원 그리드 맵이 주어졌을 때, 섬의 개수를 리턴하는 함수이다.\n",
    "\n",
    "\n",
    "- 파라미터:\n",
    "    - grid: 2차원 그리드 맵(1: 육지, 0: 물)\n",
    "    \n",
    "- 리턴:\n",
    "    - 섬의 개수\n",
    "\n",
    "***결과***\n",
    "```\n",
    "3\n",
    "5\n",
    "7\n",
    "```"
   ]
  },
  {
   "cell_type": "code",
   "execution_count": 44,
   "metadata": {
    "ExecuteTime": {
     "end_time": "2021-12-16T02:38:45.973707Z",
     "start_time": "2021-12-16T02:38:45.963734Z"
    }
   },
   "outputs": [
    {
     "name": "stdout",
     "output_type": "stream",
     "text": [
      "3\n",
      "5\n",
      "7\n"
     ]
    }
   ],
   "source": [
    "from typing import List, Dict, Any\n",
    "\n",
    "def counting_islands(grid: List[List[int]]) -> int:\n",
    "    n_rows = len(grid)\n",
    "    n_cols = len(grid[0])\n",
    "    visited = [[False]*n_cols for _ in range(n_rows)]\n",
    "    \n",
    "    def is_promising(row: int, col: int) -> bool:\n",
    "        \"\"\"grid[row][col]이 유망한지 확인\"\"\"\n",
    "        if 0 <= row <n_rows and 0<= col < n_cols and grid[row][col]==1 and visited[row][col] ==False:\n",
    "            return True\n",
    "        else:\n",
    "            return False\n",
    "        \n",
    "    def dfs(row: int, col: int) -> None:\n",
    "        \"\"\"grid[row][col]을 깊이우선탐색\"\"\"\n",
    "        if is_promising(row, col):\n",
    "            visited[row][col] = True\n",
    "            dfs(row+1,col)\n",
    "            dfs(row,col+1)\n",
    "            dfs(row, col-1)\n",
    "            dfs(row-1,col)\n",
    "        pass\n",
    "            \n",
    "    count = 0\n",
    "    for i in range(n_rows):\n",
    "        for j in range(n_cols):\n",
    "            if is_promising(i, j):\n",
    "                dfs(i, j)\n",
    "                count += 1\n",
    "    return count\n",
    "\n",
    "grid = [\n",
    "    [1,1,0,0,0],\n",
    "    [1,1,0,0,0],\n",
    "    [0,0,1,0,0],\n",
    "    [0,0,0,1,1],\n",
    "]\n",
    "print(counting_islands(grid))\n",
    "\n",
    "grid = [\n",
    "    [1,1,0,1,1],\n",
    "    [1,1,0,0,0],\n",
    "    [0,0,1,0,0],\n",
    "    [1,1,0,1,1],\n",
    "]\n",
    "print(counting_islands(grid))\n",
    "\n",
    "grid = [\n",
    "    [1,0,1,0,1],\n",
    "    [0,1,1,1,0],\n",
    "    [1,0,1,0,1],\n",
    "    [0,1,0,1,0],\n",
    "]\n",
    "print(counting_islands(grid))\n"
   ]
  },
  {
   "cell_type": "markdown",
   "metadata": {},
   "source": [
    "### 수고하셨습니다.\n",
    "제출후 모든 파일을 반드시 삭제하세요."
   ]
  }
 ],
 "metadata": {
  "kernelspec": {
   "display_name": "Python 3",
   "language": "python",
   "name": "python3"
  },
  "language_info": {
   "codemirror_mode": {
    "name": "ipython",
    "version": 3
   },
   "file_extension": ".py",
   "mimetype": "text/x-python",
   "name": "python",
   "nbconvert_exporter": "python",
   "pygments_lexer": "ipython3",
   "version": "3.8.8"
  },
  "toc": {
   "base_numbering": 1,
   "nav_menu": {},
   "number_sections": true,
   "sideBar": true,
   "skip_h1_title": false,
   "title_cell": "Table of Contents",
   "title_sidebar": "Contents",
   "toc_cell": false,
   "toc_position": {},
   "toc_section_display": true,
   "toc_window_display": false
  },
  "varInspector": {
   "cols": {
    "lenName": 16,
    "lenType": 16,
    "lenVar": 40
   },
   "kernels_config": {
    "python": {
     "delete_cmd_postfix": "",
     "delete_cmd_prefix": "del ",
     "library": "var_list.py",
     "varRefreshCmd": "print(var_dic_list())"
    },
    "r": {
     "delete_cmd_postfix": ") ",
     "delete_cmd_prefix": "rm(",
     "library": "var_list.r",
     "varRefreshCmd": "cat(var_dic_list()) "
    }
   },
   "types_to_exclude": [
    "module",
    "function",
    "builtin_function_or_method",
    "instance",
    "_Feature"
   ],
   "window_display": false
  }
 },
 "nbformat": 4,
 "nbformat_minor": 2
}
